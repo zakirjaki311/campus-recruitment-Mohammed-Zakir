{
  "nbformat": 4,
  "nbformat_minor": 0,
  "metadata": {
    "colab": {
      "name": "campus recr dataset",
      "provenance": [],
      "collapsed_sections": []
    },
    "kernelspec": {
      "name": "python3",
      "display_name": "Python 3"
    }
  },
  "cells": [
    {
      "cell_type": "markdown",
      "metadata": {
        "id": "zeT-vRHxMC0m",
        "colab_type": "text"
      },
      "source": [
        "#**_CAMPUS RECRUITMENT_**\n",
        "\n",
        "---\n",
        "\n",
        "---\n",
        "\n"
      ]
    },
    {
      "cell_type": "markdown",
      "metadata": {
        "id": "4UwHhnkRMPYO",
        "colab_type": "text"
      },
      "source": [
        "##Data Preprocessing"
      ]
    },
    {
      "cell_type": "markdown",
      "metadata": {
        "id": "LVOVFJbeMYkT",
        "colab_type": "text"
      },
      "source": [
        "###Uploading Dataset"
      ]
    },
    {
      "cell_type": "code",
      "metadata": {
        "id": "Z3-pmJ_-qTL8",
        "colab_type": "code",
        "colab": {}
      },
      "source": [
        "import pandas as pd\n",
        "import matplotlib.pyplot as plt"
      ],
      "execution_count": 345,
      "outputs": []
    },
    {
      "cell_type": "code",
      "metadata": {
        "id": "rIrRQ8N6rYzQ",
        "colab_type": "code",
        "colab": {}
      },
      "source": [
        "campus=pd.read_csv('/content/datasets_596958_1073629_Placement_Data_Full_Class.csv')"
      ],
      "execution_count": 346,
      "outputs": []
    },
    {
      "cell_type": "code",
      "metadata": {
        "id": "QsCiD-MKrm9-",
        "colab_type": "code",
        "colab": {
          "base_uri": "https://localhost:8080/",
          "height": 406
        },
        "outputId": "ad96564b-2987-4c03-bbd8-56c99d023c3e"
      },
      "source": [
        "campus"
      ],
      "execution_count": 347,
      "outputs": [
        {
          "output_type": "execute_result",
          "data": {
            "text/html": [
              "<div>\n",
              "<style scoped>\n",
              "    .dataframe tbody tr th:only-of-type {\n",
              "        vertical-align: middle;\n",
              "    }\n",
              "\n",
              "    .dataframe tbody tr th {\n",
              "        vertical-align: top;\n",
              "    }\n",
              "\n",
              "    .dataframe thead th {\n",
              "        text-align: right;\n",
              "    }\n",
              "</style>\n",
              "<table border=\"1\" class=\"dataframe\">\n",
              "  <thead>\n",
              "    <tr style=\"text-align: right;\">\n",
              "      <th></th>\n",
              "      <th>sl_no</th>\n",
              "      <th>gender</th>\n",
              "      <th>ssc_p</th>\n",
              "      <th>ssc_b</th>\n",
              "      <th>hsc_p</th>\n",
              "      <th>hsc_b</th>\n",
              "      <th>hsc_s</th>\n",
              "      <th>degree_p</th>\n",
              "      <th>degree_t</th>\n",
              "      <th>workex</th>\n",
              "      <th>etest_p</th>\n",
              "      <th>specialisation</th>\n",
              "      <th>mba_p</th>\n",
              "      <th>status</th>\n",
              "      <th>salary</th>\n",
              "    </tr>\n",
              "  </thead>\n",
              "  <tbody>\n",
              "    <tr>\n",
              "      <th>0</th>\n",
              "      <td>1</td>\n",
              "      <td>M</td>\n",
              "      <td>67.00</td>\n",
              "      <td>Others</td>\n",
              "      <td>91.00</td>\n",
              "      <td>Others</td>\n",
              "      <td>Commerce</td>\n",
              "      <td>58.00</td>\n",
              "      <td>Sci&amp;Tech</td>\n",
              "      <td>No</td>\n",
              "      <td>55.0</td>\n",
              "      <td>Mkt&amp;HR</td>\n",
              "      <td>58.80</td>\n",
              "      <td>Placed</td>\n",
              "      <td>270000.0</td>\n",
              "    </tr>\n",
              "    <tr>\n",
              "      <th>1</th>\n",
              "      <td>2</td>\n",
              "      <td>M</td>\n",
              "      <td>79.33</td>\n",
              "      <td>Central</td>\n",
              "      <td>78.33</td>\n",
              "      <td>Others</td>\n",
              "      <td>Science</td>\n",
              "      <td>77.48</td>\n",
              "      <td>Sci&amp;Tech</td>\n",
              "      <td>Yes</td>\n",
              "      <td>86.5</td>\n",
              "      <td>Mkt&amp;Fin</td>\n",
              "      <td>66.28</td>\n",
              "      <td>Placed</td>\n",
              "      <td>200000.0</td>\n",
              "    </tr>\n",
              "    <tr>\n",
              "      <th>2</th>\n",
              "      <td>3</td>\n",
              "      <td>M</td>\n",
              "      <td>65.00</td>\n",
              "      <td>Central</td>\n",
              "      <td>68.00</td>\n",
              "      <td>Central</td>\n",
              "      <td>Arts</td>\n",
              "      <td>64.00</td>\n",
              "      <td>Comm&amp;Mgmt</td>\n",
              "      <td>No</td>\n",
              "      <td>75.0</td>\n",
              "      <td>Mkt&amp;Fin</td>\n",
              "      <td>57.80</td>\n",
              "      <td>Placed</td>\n",
              "      <td>250000.0</td>\n",
              "    </tr>\n",
              "    <tr>\n",
              "      <th>3</th>\n",
              "      <td>4</td>\n",
              "      <td>M</td>\n",
              "      <td>56.00</td>\n",
              "      <td>Central</td>\n",
              "      <td>52.00</td>\n",
              "      <td>Central</td>\n",
              "      <td>Science</td>\n",
              "      <td>52.00</td>\n",
              "      <td>Sci&amp;Tech</td>\n",
              "      <td>No</td>\n",
              "      <td>66.0</td>\n",
              "      <td>Mkt&amp;HR</td>\n",
              "      <td>59.43</td>\n",
              "      <td>Not Placed</td>\n",
              "      <td>NaN</td>\n",
              "    </tr>\n",
              "    <tr>\n",
              "      <th>4</th>\n",
              "      <td>5</td>\n",
              "      <td>M</td>\n",
              "      <td>85.80</td>\n",
              "      <td>Central</td>\n",
              "      <td>73.60</td>\n",
              "      <td>Central</td>\n",
              "      <td>Commerce</td>\n",
              "      <td>73.30</td>\n",
              "      <td>Comm&amp;Mgmt</td>\n",
              "      <td>No</td>\n",
              "      <td>96.8</td>\n",
              "      <td>Mkt&amp;Fin</td>\n",
              "      <td>55.50</td>\n",
              "      <td>Placed</td>\n",
              "      <td>425000.0</td>\n",
              "    </tr>\n",
              "    <tr>\n",
              "      <th>...</th>\n",
              "      <td>...</td>\n",
              "      <td>...</td>\n",
              "      <td>...</td>\n",
              "      <td>...</td>\n",
              "      <td>...</td>\n",
              "      <td>...</td>\n",
              "      <td>...</td>\n",
              "      <td>...</td>\n",
              "      <td>...</td>\n",
              "      <td>...</td>\n",
              "      <td>...</td>\n",
              "      <td>...</td>\n",
              "      <td>...</td>\n",
              "      <td>...</td>\n",
              "      <td>...</td>\n",
              "    </tr>\n",
              "    <tr>\n",
              "      <th>210</th>\n",
              "      <td>211</td>\n",
              "      <td>M</td>\n",
              "      <td>80.60</td>\n",
              "      <td>Others</td>\n",
              "      <td>82.00</td>\n",
              "      <td>Others</td>\n",
              "      <td>Commerce</td>\n",
              "      <td>77.60</td>\n",
              "      <td>Comm&amp;Mgmt</td>\n",
              "      <td>No</td>\n",
              "      <td>91.0</td>\n",
              "      <td>Mkt&amp;Fin</td>\n",
              "      <td>74.49</td>\n",
              "      <td>Placed</td>\n",
              "      <td>400000.0</td>\n",
              "    </tr>\n",
              "    <tr>\n",
              "      <th>211</th>\n",
              "      <td>212</td>\n",
              "      <td>M</td>\n",
              "      <td>58.00</td>\n",
              "      <td>Others</td>\n",
              "      <td>60.00</td>\n",
              "      <td>Others</td>\n",
              "      <td>Science</td>\n",
              "      <td>72.00</td>\n",
              "      <td>Sci&amp;Tech</td>\n",
              "      <td>No</td>\n",
              "      <td>74.0</td>\n",
              "      <td>Mkt&amp;Fin</td>\n",
              "      <td>53.62</td>\n",
              "      <td>Placed</td>\n",
              "      <td>275000.0</td>\n",
              "    </tr>\n",
              "    <tr>\n",
              "      <th>212</th>\n",
              "      <td>213</td>\n",
              "      <td>M</td>\n",
              "      <td>67.00</td>\n",
              "      <td>Others</td>\n",
              "      <td>67.00</td>\n",
              "      <td>Others</td>\n",
              "      <td>Commerce</td>\n",
              "      <td>73.00</td>\n",
              "      <td>Comm&amp;Mgmt</td>\n",
              "      <td>Yes</td>\n",
              "      <td>59.0</td>\n",
              "      <td>Mkt&amp;Fin</td>\n",
              "      <td>69.72</td>\n",
              "      <td>Placed</td>\n",
              "      <td>295000.0</td>\n",
              "    </tr>\n",
              "    <tr>\n",
              "      <th>213</th>\n",
              "      <td>214</td>\n",
              "      <td>F</td>\n",
              "      <td>74.00</td>\n",
              "      <td>Others</td>\n",
              "      <td>66.00</td>\n",
              "      <td>Others</td>\n",
              "      <td>Commerce</td>\n",
              "      <td>58.00</td>\n",
              "      <td>Comm&amp;Mgmt</td>\n",
              "      <td>No</td>\n",
              "      <td>70.0</td>\n",
              "      <td>Mkt&amp;HR</td>\n",
              "      <td>60.23</td>\n",
              "      <td>Placed</td>\n",
              "      <td>204000.0</td>\n",
              "    </tr>\n",
              "    <tr>\n",
              "      <th>214</th>\n",
              "      <td>215</td>\n",
              "      <td>M</td>\n",
              "      <td>62.00</td>\n",
              "      <td>Central</td>\n",
              "      <td>58.00</td>\n",
              "      <td>Others</td>\n",
              "      <td>Science</td>\n",
              "      <td>53.00</td>\n",
              "      <td>Comm&amp;Mgmt</td>\n",
              "      <td>No</td>\n",
              "      <td>89.0</td>\n",
              "      <td>Mkt&amp;HR</td>\n",
              "      <td>60.22</td>\n",
              "      <td>Not Placed</td>\n",
              "      <td>NaN</td>\n",
              "    </tr>\n",
              "  </tbody>\n",
              "</table>\n",
              "<p>215 rows × 15 columns</p>\n",
              "</div>"
            ],
            "text/plain": [
              "     sl_no gender  ssc_p    ssc_b  ...  specialisation  mba_p      status    salary\n",
              "0        1      M  67.00   Others  ...          Mkt&HR  58.80      Placed  270000.0\n",
              "1        2      M  79.33  Central  ...         Mkt&Fin  66.28      Placed  200000.0\n",
              "2        3      M  65.00  Central  ...         Mkt&Fin  57.80      Placed  250000.0\n",
              "3        4      M  56.00  Central  ...          Mkt&HR  59.43  Not Placed       NaN\n",
              "4        5      M  85.80  Central  ...         Mkt&Fin  55.50      Placed  425000.0\n",
              "..     ...    ...    ...      ...  ...             ...    ...         ...       ...\n",
              "210    211      M  80.60   Others  ...         Mkt&Fin  74.49      Placed  400000.0\n",
              "211    212      M  58.00   Others  ...         Mkt&Fin  53.62      Placed  275000.0\n",
              "212    213      M  67.00   Others  ...         Mkt&Fin  69.72      Placed  295000.0\n",
              "213    214      F  74.00   Others  ...          Mkt&HR  60.23      Placed  204000.0\n",
              "214    215      M  62.00  Central  ...          Mkt&HR  60.22  Not Placed       NaN\n",
              "\n",
              "[215 rows x 15 columns]"
            ]
          },
          "metadata": {
            "tags": []
          },
          "execution_count": 347
        }
      ]
    },
    {
      "cell_type": "code",
      "metadata": {
        "id": "3jNH8X-urqQu",
        "colab_type": "code",
        "colab": {
          "base_uri": "https://localhost:8080/",
          "height": 407
        },
        "outputId": "a29dce71-b08d-49f1-9170-b0477bbb3aa7"
      },
      "source": [
        "campus.info()"
      ],
      "execution_count": 348,
      "outputs": [
        {
          "output_type": "stream",
          "text": [
            "<class 'pandas.core.frame.DataFrame'>\n",
            "RangeIndex: 215 entries, 0 to 214\n",
            "Data columns (total 15 columns):\n",
            " #   Column          Non-Null Count  Dtype  \n",
            "---  ------          --------------  -----  \n",
            " 0   sl_no           215 non-null    int64  \n",
            " 1   gender          215 non-null    object \n",
            " 2   ssc_p           215 non-null    float64\n",
            " 3   ssc_b           215 non-null    object \n",
            " 4   hsc_p           215 non-null    float64\n",
            " 5   hsc_b           215 non-null    object \n",
            " 6   hsc_s           215 non-null    object \n",
            " 7   degree_p        215 non-null    float64\n",
            " 8   degree_t        215 non-null    object \n",
            " 9   workex          215 non-null    object \n",
            " 10  etest_p         215 non-null    float64\n",
            " 11  specialisation  215 non-null    object \n",
            " 12  mba_p           215 non-null    float64\n",
            " 13  status          215 non-null    object \n",
            " 14  salary          148 non-null    float64\n",
            "dtypes: float64(6), int64(1), object(8)\n",
            "memory usage: 25.3+ KB\n"
          ],
          "name": "stdout"
        }
      ]
    },
    {
      "cell_type": "code",
      "metadata": {
        "id": "VKkhRIvUr8bH",
        "colab_type": "code",
        "colab": {
          "base_uri": "https://localhost:8080/",
          "height": 287
        },
        "outputId": "1c1e9134-8062-4285-d52d-d0ed95c96280"
      },
      "source": [
        "campus.describe()"
      ],
      "execution_count": 349,
      "outputs": [
        {
          "output_type": "execute_result",
          "data": {
            "text/html": [
              "<div>\n",
              "<style scoped>\n",
              "    .dataframe tbody tr th:only-of-type {\n",
              "        vertical-align: middle;\n",
              "    }\n",
              "\n",
              "    .dataframe tbody tr th {\n",
              "        vertical-align: top;\n",
              "    }\n",
              "\n",
              "    .dataframe thead th {\n",
              "        text-align: right;\n",
              "    }\n",
              "</style>\n",
              "<table border=\"1\" class=\"dataframe\">\n",
              "  <thead>\n",
              "    <tr style=\"text-align: right;\">\n",
              "      <th></th>\n",
              "      <th>sl_no</th>\n",
              "      <th>ssc_p</th>\n",
              "      <th>hsc_p</th>\n",
              "      <th>degree_p</th>\n",
              "      <th>etest_p</th>\n",
              "      <th>mba_p</th>\n",
              "      <th>salary</th>\n",
              "    </tr>\n",
              "  </thead>\n",
              "  <tbody>\n",
              "    <tr>\n",
              "      <th>count</th>\n",
              "      <td>215.000000</td>\n",
              "      <td>215.000000</td>\n",
              "      <td>215.000000</td>\n",
              "      <td>215.000000</td>\n",
              "      <td>215.000000</td>\n",
              "      <td>215.000000</td>\n",
              "      <td>148.000000</td>\n",
              "    </tr>\n",
              "    <tr>\n",
              "      <th>mean</th>\n",
              "      <td>108.000000</td>\n",
              "      <td>67.303395</td>\n",
              "      <td>66.333163</td>\n",
              "      <td>66.370186</td>\n",
              "      <td>72.100558</td>\n",
              "      <td>62.278186</td>\n",
              "      <td>288655.405405</td>\n",
              "    </tr>\n",
              "    <tr>\n",
              "      <th>std</th>\n",
              "      <td>62.209324</td>\n",
              "      <td>10.827205</td>\n",
              "      <td>10.897509</td>\n",
              "      <td>7.358743</td>\n",
              "      <td>13.275956</td>\n",
              "      <td>5.833385</td>\n",
              "      <td>93457.452420</td>\n",
              "    </tr>\n",
              "    <tr>\n",
              "      <th>min</th>\n",
              "      <td>1.000000</td>\n",
              "      <td>40.890000</td>\n",
              "      <td>37.000000</td>\n",
              "      <td>50.000000</td>\n",
              "      <td>50.000000</td>\n",
              "      <td>51.210000</td>\n",
              "      <td>200000.000000</td>\n",
              "    </tr>\n",
              "    <tr>\n",
              "      <th>25%</th>\n",
              "      <td>54.500000</td>\n",
              "      <td>60.600000</td>\n",
              "      <td>60.900000</td>\n",
              "      <td>61.000000</td>\n",
              "      <td>60.000000</td>\n",
              "      <td>57.945000</td>\n",
              "      <td>240000.000000</td>\n",
              "    </tr>\n",
              "    <tr>\n",
              "      <th>50%</th>\n",
              "      <td>108.000000</td>\n",
              "      <td>67.000000</td>\n",
              "      <td>65.000000</td>\n",
              "      <td>66.000000</td>\n",
              "      <td>71.000000</td>\n",
              "      <td>62.000000</td>\n",
              "      <td>265000.000000</td>\n",
              "    </tr>\n",
              "    <tr>\n",
              "      <th>75%</th>\n",
              "      <td>161.500000</td>\n",
              "      <td>75.700000</td>\n",
              "      <td>73.000000</td>\n",
              "      <td>72.000000</td>\n",
              "      <td>83.500000</td>\n",
              "      <td>66.255000</td>\n",
              "      <td>300000.000000</td>\n",
              "    </tr>\n",
              "    <tr>\n",
              "      <th>max</th>\n",
              "      <td>215.000000</td>\n",
              "      <td>89.400000</td>\n",
              "      <td>97.700000</td>\n",
              "      <td>91.000000</td>\n",
              "      <td>98.000000</td>\n",
              "      <td>77.890000</td>\n",
              "      <td>940000.000000</td>\n",
              "    </tr>\n",
              "  </tbody>\n",
              "</table>\n",
              "</div>"
            ],
            "text/plain": [
              "            sl_no       ssc_p  ...       mba_p         salary\n",
              "count  215.000000  215.000000  ...  215.000000     148.000000\n",
              "mean   108.000000   67.303395  ...   62.278186  288655.405405\n",
              "std     62.209324   10.827205  ...    5.833385   93457.452420\n",
              "min      1.000000   40.890000  ...   51.210000  200000.000000\n",
              "25%     54.500000   60.600000  ...   57.945000  240000.000000\n",
              "50%    108.000000   67.000000  ...   62.000000  265000.000000\n",
              "75%    161.500000   75.700000  ...   66.255000  300000.000000\n",
              "max    215.000000   89.400000  ...   77.890000  940000.000000\n",
              "\n",
              "[8 rows x 7 columns]"
            ]
          },
          "metadata": {
            "tags": []
          },
          "execution_count": 349
        }
      ]
    },
    {
      "cell_type": "markdown",
      "metadata": {
        "id": "UHrh5hbzMoIq",
        "colab_type": "text"
      },
      "source": [
        "###Plotting of graph"
      ]
    },
    {
      "cell_type": "code",
      "metadata": {
        "id": "wJvv-rBysBTR",
        "colab_type": "code",
        "colab": {
          "base_uri": "https://localhost:8080/",
          "height": 296
        },
        "outputId": "adcf6b9d-5236-43da-b961-1c2818a10972"
      },
      "source": [
        "plt.plot(campus['gender'], campus['salary'],'g*')\n",
        "plt.xlabel('gender')\n",
        "plt.ylabel('salary')"
      ],
      "execution_count": 350,
      "outputs": [
        {
          "output_type": "execute_result",
          "data": {
            "text/plain": [
              "Text(0, 0.5, 'salary')"
            ]
          },
          "metadata": {
            "tags": []
          },
          "execution_count": 350
        },
        {
          "output_type": "display_data",
          "data": {
            "image/png": "[encoded data removed]",
            "text/plain": [
              "<Figure size 432x288 with 1 Axes>"
            ]
          },
          "metadata": {
            "tags": [],
            "needs_background": "light"
          }
        }
      ]
    },
    {
      "cell_type": "code",
      "metadata": {
        "id": "s8GxRSxssQb_",
        "colab_type": "code",
        "colab": {
          "base_uri": "https://localhost:8080/",
          "height": 301
        },
        "outputId": "f1da5130-b22d-4da5-e8f9-640787f0e083"
      },
      "source": [
        "campus.isnull().sum()"
      ],
      "execution_count": 351,
      "outputs": [
        {
          "output_type": "execute_result",
          "data": {
            "text/plain": [
              "sl_no              0\n",
              "gender             0\n",
              "ssc_p              0\n",
              "ssc_b              0\n",
              "hsc_p              0\n",
              "hsc_b              0\n",
              "hsc_s              0\n",
              "degree_p           0\n",
              "degree_t           0\n",
              "workex             0\n",
              "etest_p            0\n",
              "specialisation     0\n",
              "mba_p              0\n",
              "status             0\n",
              "salary            67\n",
              "dtype: int64"
            ]
          },
          "metadata": {
            "tags": []
          },
          "execution_count": 351
        }
      ]
    },
    {
      "cell_type": "code",
      "metadata": {
        "id": "-PnrIrhzshU4",
        "colab_type": "code",
        "colab": {
          "base_uri": "https://localhost:8080/",
          "height": 297
        },
        "outputId": "20da5d54-f09e-4e0a-e4ef-6f95911ea8be"
      },
      "source": [
        "plt.plot(campus['degree_t'], campus['salary'],'b+')\n",
        "plt.xlabel('degree_t')\n",
        "plt.ylabel('salary')"
      ],
      "execution_count": 352,
      "outputs": [
        {
          "output_type": "execute_result",
          "data": {
            "text/plain": [
              "Text(0, 0.5, 'salary')"
            ]
          },
          "metadata": {
            "tags": []
          },
          "execution_count": 352
        },
        {
          "output_type": "display_data",
          "data": {
            "image/png": "[encoded data removed]",
            "text/plain": [
              "<Figure size 432x288 with 1 Axes>"
            ]
          },
          "metadata": {
            "tags": [],
            "needs_background": "light"
          }
        }
      ]
    },
    {
      "cell_type": "code",
      "metadata": {
        "id": "b0TDA94dsrxt",
        "colab_type": "code",
        "colab": {
          "base_uri": "https://localhost:8080/",
          "height": 34
        },
        "outputId": "1d1817f1-1eab-4546-9c6a-d661ddcf28a2"
      },
      "source": [
        "campus['status'].unique() "
      ],
      "execution_count": 353,
      "outputs": [
        {
          "output_type": "execute_result",
          "data": {
            "text/plain": [
              "array(['Placed', 'Not Placed'], dtype=object)"
            ]
          },
          "metadata": {
            "tags": []
          },
          "execution_count": 353
        }
      ]
    },
    {
      "cell_type": "markdown",
      "metadata": {
        "id": "i9Qsx8GoM0Ri",
        "colab_type": "text"
      },
      "source": [
        "##Separate Features & Target"
      ]
    },
    {
      "cell_type": "markdown",
      "metadata": {
        "id": "LVT6NcAzNA8r",
        "colab_type": "text"
      },
      "source": [
        "* Here we are considering 'status' as target\n",
        "\n",
        "* And rest of the columns as features"
      ]
    },
    {
      "cell_type": "code",
      "metadata": {
        "id": "GTOZ6YhQtAPK",
        "colab_type": "code",
        "colab": {}
      },
      "source": [
        "import numpy as np"
      ],
      "execution_count": 354,
      "outputs": []
    },
    {
      "cell_type": "code",
      "metadata": {
        "id": "FMjQOkRhtDrr",
        "colab_type": "code",
        "colab": {
          "base_uri": "https://localhost:8080/",
          "height": 406
        },
        "outputId": "1946bb80-83a8-40f7-edf6-09ef9f68a5f7"
      },
      "source": [
        "campus"
      ],
      "execution_count": 355,
      "outputs": [
        {
          "output_type": "execute_result",
          "data": {
            "text/html": [
              "<div>\n",
              "<style scoped>\n",
              "    .dataframe tbody tr th:only-of-type {\n",
              "        vertical-align: middle;\n",
              "    }\n",
              "\n",
              "    .dataframe tbody tr th {\n",
              "        vertical-align: top;\n",
              "    }\n",
              "\n",
              "    .dataframe thead th {\n",
              "        text-align: right;\n",
              "    }\n",
              "</style>\n",
              "<table border=\"1\" class=\"dataframe\">\n",
              "  <thead>\n",
              "    <tr style=\"text-align: right;\">\n",
              "      <th></th>\n",
              "      <th>sl_no</th>\n",
              "      <th>gender</th>\n",
              "      <th>ssc_p</th>\n",
              "      <th>ssc_b</th>\n",
              "      <th>hsc_p</th>\n",
              "      <th>hsc_b</th>\n",
              "      <th>hsc_s</th>\n",
              "      <th>degree_p</th>\n",
              "      <th>degree_t</th>\n",
              "      <th>workex</th>\n",
              "      <th>etest_p</th>\n",
              "      <th>specialisation</th>\n",
              "      <th>mba_p</th>\n",
              "      <th>status</th>\n",
              "      <th>salary</th>\n",
              "    </tr>\n",
              "  </thead>\n",
              "  <tbody>\n",
              "    <tr>\n",
              "      <th>0</th>\n",
              "      <td>1</td>\n",
              "      <td>M</td>\n",
              "      <td>67.00</td>\n",
              "      <td>Others</td>\n",
              "      <td>91.00</td>\n",
              "      <td>Others</td>\n",
              "      <td>Commerce</td>\n",
              "      <td>58.00</td>\n",
              "      <td>Sci&amp;Tech</td>\n",
              "      <td>No</td>\n",
              "      <td>55.0</td>\n",
              "      <td>Mkt&amp;HR</td>\n",
              "      <td>58.80</td>\n",
              "      <td>Placed</td>\n",
              "      <td>270000.0</td>\n",
              "    </tr>\n",
              "    <tr>\n",
              "      <th>1</th>\n",
              "      <td>2</td>\n",
              "      <td>M</td>\n",
              "      <td>79.33</td>\n",
              "      <td>Central</td>\n",
              "      <td>78.33</td>\n",
              "      <td>Others</td>\n",
              "      <td>Science</td>\n",
              "      <td>77.48</td>\n",
              "      <td>Sci&amp;Tech</td>\n",
              "      <td>Yes</td>\n",
              "      <td>86.5</td>\n",
              "      <td>Mkt&amp;Fin</td>\n",
              "      <td>66.28</td>\n",
              "      <td>Placed</td>\n",
              "      <td>200000.0</td>\n",
              "    </tr>\n",
              "    <tr>\n",
              "      <th>2</th>\n",
              "      <td>3</td>\n",
              "      <td>M</td>\n",
              "      <td>65.00</td>\n",
              "      <td>Central</td>\n",
              "      <td>68.00</td>\n",
              "      <td>Central</td>\n",
              "      <td>Arts</td>\n",
              "      <td>64.00</td>\n",
              "      <td>Comm&amp;Mgmt</td>\n",
              "      <td>No</td>\n",
              "      <td>75.0</td>\n",
              "      <td>Mkt&amp;Fin</td>\n",
              "      <td>57.80</td>\n",
              "      <td>Placed</td>\n",
              "      <td>250000.0</td>\n",
              "    </tr>\n",
              "    <tr>\n",
              "      <th>3</th>\n",
              "      <td>4</td>\n",
              "      <td>M</td>\n",
              "      <td>56.00</td>\n",
              "      <td>Central</td>\n",
              "      <td>52.00</td>\n",
              "      <td>Central</td>\n",
              "      <td>Science</td>\n",
              "      <td>52.00</td>\n",
              "      <td>Sci&amp;Tech</td>\n",
              "      <td>No</td>\n",
              "      <td>66.0</td>\n",
              "      <td>Mkt&amp;HR</td>\n",
              "      <td>59.43</td>\n",
              "      <td>Not Placed</td>\n",
              "      <td>NaN</td>\n",
              "    </tr>\n",
              "    <tr>\n",
              "      <th>4</th>\n",
              "      <td>5</td>\n",
              "      <td>M</td>\n",
              "      <td>85.80</td>\n",
              "      <td>Central</td>\n",
              "      <td>73.60</td>\n",
              "      <td>Central</td>\n",
              "      <td>Commerce</td>\n",
              "      <td>73.30</td>\n",
              "      <td>Comm&amp;Mgmt</td>\n",
              "      <td>No</td>\n",
              "      <td>96.8</td>\n",
              "      <td>Mkt&amp;Fin</td>\n",
              "      <td>55.50</td>\n",
              "      <td>Placed</td>\n",
              "      <td>425000.0</td>\n",
              "    </tr>\n",
              "    <tr>\n",
              "      <th>...</th>\n",
              "      <td>...</td>\n",
              "      <td>...</td>\n",
              "      <td>...</td>\n",
              "      <td>...</td>\n",
              "      <td>...</td>\n",
              "      <td>...</td>\n",
              "      <td>...</td>\n",
              "      <td>...</td>\n",
              "      <td>...</td>\n",
              "      <td>...</td>\n",
              "      <td>...</td>\n",
              "      <td>...</td>\n",
              "      <td>...</td>\n",
              "      <td>...</td>\n",
              "      <td>...</td>\n",
              "    </tr>\n",
              "    <tr>\n",
              "      <th>210</th>\n",
              "      <td>211</td>\n",
              "      <td>M</td>\n",
              "      <td>80.60</td>\n",
              "      <td>Others</td>\n",
              "      <td>82.00</td>\n",
              "      <td>Others</td>\n",
              "      <td>Commerce</td>\n",
              "      <td>77.60</td>\n",
              "      <td>Comm&amp;Mgmt</td>\n",
              "      <td>No</td>\n",
              "      <td>91.0</td>\n",
              "      <td>Mkt&amp;Fin</td>\n",
              "      <td>74.49</td>\n",
              "      <td>Placed</td>\n",
              "      <td>400000.0</td>\n",
              "    </tr>\n",
              "    <tr>\n",
              "      <th>211</th>\n",
              "      <td>212</td>\n",
              "      <td>M</td>\n",
              "      <td>58.00</td>\n",
              "      <td>Others</td>\n",
              "      <td>60.00</td>\n",
              "      <td>Others</td>\n",
              "      <td>Science</td>\n",
              "      <td>72.00</td>\n",
              "      <td>Sci&amp;Tech</td>\n",
              "      <td>No</td>\n",
              "      <td>74.0</td>\n",
              "      <td>Mkt&amp;Fin</td>\n",
              "      <td>53.62</td>\n",
              "      <td>Placed</td>\n",
              "      <td>275000.0</td>\n",
              "    </tr>\n",
              "    <tr>\n",
              "      <th>212</th>\n",
              "      <td>213</td>\n",
              "      <td>M</td>\n",
              "      <td>67.00</td>\n",
              "      <td>Others</td>\n",
              "      <td>67.00</td>\n",
              "      <td>Others</td>\n",
              "      <td>Commerce</td>\n",
              "      <td>73.00</td>\n",
              "      <td>Comm&amp;Mgmt</td>\n",
              "      <td>Yes</td>\n",
              "      <td>59.0</td>\n",
              "      <td>Mkt&amp;Fin</td>\n",
              "      <td>69.72</td>\n",
              "      <td>Placed</td>\n",
              "      <td>295000.0</td>\n",
              "    </tr>\n",
              "    <tr>\n",
              "      <th>213</th>\n",
              "      <td>214</td>\n",
              "      <td>F</td>\n",
              "      <td>74.00</td>\n",
              "      <td>Others</td>\n",
              "      <td>66.00</td>\n",
              "      <td>Others</td>\n",
              "      <td>Commerce</td>\n",
              "      <td>58.00</td>\n",
              "      <td>Comm&amp;Mgmt</td>\n",
              "      <td>No</td>\n",
              "      <td>70.0</td>\n",
              "      <td>Mkt&amp;HR</td>\n",
              "      <td>60.23</td>\n",
              "      <td>Placed</td>\n",
              "      <td>204000.0</td>\n",
              "    </tr>\n",
              "    <tr>\n",
              "      <th>214</th>\n",
              "      <td>215</td>\n",
              "      <td>M</td>\n",
              "      <td>62.00</td>\n",
              "      <td>Central</td>\n",
              "      <td>58.00</td>\n",
              "      <td>Others</td>\n",
              "      <td>Science</td>\n",
              "      <td>53.00</td>\n",
              "      <td>Comm&amp;Mgmt</td>\n",
              "      <td>No</td>\n",
              "      <td>89.0</td>\n",
              "      <td>Mkt&amp;HR</td>\n",
              "      <td>60.22</td>\n",
              "      <td>Not Placed</td>\n",
              "      <td>NaN</td>\n",
              "    </tr>\n",
              "  </tbody>\n",
              "</table>\n",
              "<p>215 rows × 15 columns</p>\n",
              "</div>"
            ],
            "text/plain": [
              "     sl_no gender  ssc_p    ssc_b  ...  specialisation  mba_p      status    salary\n",
              "0        1      M  67.00   Others  ...          Mkt&HR  58.80      Placed  270000.0\n",
              "1        2      M  79.33  Central  ...         Mkt&Fin  66.28      Placed  200000.0\n",
              "2        3      M  65.00  Central  ...         Mkt&Fin  57.80      Placed  250000.0\n",
              "3        4      M  56.00  Central  ...          Mkt&HR  59.43  Not Placed       NaN\n",
              "4        5      M  85.80  Central  ...         Mkt&Fin  55.50      Placed  425000.0\n",
              "..     ...    ...    ...      ...  ...             ...    ...         ...       ...\n",
              "210    211      M  80.60   Others  ...         Mkt&Fin  74.49      Placed  400000.0\n",
              "211    212      M  58.00   Others  ...         Mkt&Fin  53.62      Placed  275000.0\n",
              "212    213      M  67.00   Others  ...         Mkt&Fin  69.72      Placed  295000.0\n",
              "213    214      F  74.00   Others  ...          Mkt&HR  60.23      Placed  204000.0\n",
              "214    215      M  62.00  Central  ...          Mkt&HR  60.22  Not Placed       NaN\n",
              "\n",
              "[215 rows x 15 columns]"
            ]
          },
          "metadata": {
            "tags": []
          },
          "execution_count": 355
        }
      ]
    },
    {
      "cell_type": "code",
      "metadata": {
        "id": "ISePeM4ftIBR",
        "colab_type": "code",
        "colab": {}
      },
      "source": [
        "x = campus.drop(['status','salary'],axis=1)\n",
        "y = campus.iloc[:,-2]"
      ],
      "execution_count": 356,
      "outputs": []
    },
    {
      "cell_type": "code",
      "metadata": {
        "id": "gjR1JyU5twua",
        "colab_type": "code",
        "colab": {
          "base_uri": "https://localhost:8080/",
          "height": 406
        },
        "outputId": "6caaba5e-9654-41e1-d234-912bdd249d6e"
      },
      "source": [
        "x"
      ],
      "execution_count": 357,
      "outputs": [
        {
          "output_type": "execute_result",
          "data": {
            "text/html": [
              "<div>\n",
              "<style scoped>\n",
              "    .dataframe tbody tr th:only-of-type {\n",
              "        vertical-align: middle;\n",
              "    }\n",
              "\n",
              "    .dataframe tbody tr th {\n",
              "        vertical-align: top;\n",
              "    }\n",
              "\n",
              "    .dataframe thead th {\n",
              "        text-align: right;\n",
              "    }\n",
              "</style>\n",
              "<table border=\"1\" class=\"dataframe\">\n",
              "  <thead>\n",
              "    <tr style=\"text-align: right;\">\n",
              "      <th></th>\n",
              "      <th>sl_no</th>\n",
              "      <th>gender</th>\n",
              "      <th>ssc_p</th>\n",
              "      <th>ssc_b</th>\n",
              "      <th>hsc_p</th>\n",
              "      <th>hsc_b</th>\n",
              "      <th>hsc_s</th>\n",
              "      <th>degree_p</th>\n",
              "      <th>degree_t</th>\n",
              "      <th>workex</th>\n",
              "      <th>etest_p</th>\n",
              "      <th>specialisation</th>\n",
              "      <th>mba_p</th>\n",
              "    </tr>\n",
              "  </thead>\n",
              "  <tbody>\n",
              "    <tr>\n",
              "      <th>0</th>\n",
              "      <td>1</td>\n",
              "      <td>M</td>\n",
              "      <td>67.00</td>\n",
              "      <td>Others</td>\n",
              "      <td>91.00</td>\n",
              "      <td>Others</td>\n",
              "      <td>Commerce</td>\n",
              "      <td>58.00</td>\n",
              "      <td>Sci&amp;Tech</td>\n",
              "      <td>No</td>\n",
              "      <td>55.0</td>\n",
              "      <td>Mkt&amp;HR</td>\n",
              "      <td>58.80</td>\n",
              "    </tr>\n",
              "    <tr>\n",
              "      <th>1</th>\n",
              "      <td>2</td>\n",
              "      <td>M</td>\n",
              "      <td>79.33</td>\n",
              "      <td>Central</td>\n",
              "      <td>78.33</td>\n",
              "      <td>Others</td>\n",
              "      <td>Science</td>\n",
              "      <td>77.48</td>\n",
              "      <td>Sci&amp;Tech</td>\n",
              "      <td>Yes</td>\n",
              "      <td>86.5</td>\n",
              "      <td>Mkt&amp;Fin</td>\n",
              "      <td>66.28</td>\n",
              "    </tr>\n",
              "    <tr>\n",
              "      <th>2</th>\n",
              "      <td>3</td>\n",
              "      <td>M</td>\n",
              "      <td>65.00</td>\n",
              "      <td>Central</td>\n",
              "      <td>68.00</td>\n",
              "      <td>Central</td>\n",
              "      <td>Arts</td>\n",
              "      <td>64.00</td>\n",
              "      <td>Comm&amp;Mgmt</td>\n",
              "      <td>No</td>\n",
              "      <td>75.0</td>\n",
              "      <td>Mkt&amp;Fin</td>\n",
              "      <td>57.80</td>\n",
              "    </tr>\n",
              "    <tr>\n",
              "      <th>3</th>\n",
              "      <td>4</td>\n",
              "      <td>M</td>\n",
              "      <td>56.00</td>\n",
              "      <td>Central</td>\n",
              "      <td>52.00</td>\n",
              "      <td>Central</td>\n",
              "      <td>Science</td>\n",
              "      <td>52.00</td>\n",
              "      <td>Sci&amp;Tech</td>\n",
              "      <td>No</td>\n",
              "      <td>66.0</td>\n",
              "      <td>Mkt&amp;HR</td>\n",
              "      <td>59.43</td>\n",
              "    </tr>\n",
              "    <tr>\n",
              "      <th>4</th>\n",
              "      <td>5</td>\n",
              "      <td>M</td>\n",
              "      <td>85.80</td>\n",
              "      <td>Central</td>\n",
              "      <td>73.60</td>\n",
              "      <td>Central</td>\n",
              "      <td>Commerce</td>\n",
              "      <td>73.30</td>\n",
              "      <td>Comm&amp;Mgmt</td>\n",
              "      <td>No</td>\n",
              "      <td>96.8</td>\n",
              "      <td>Mkt&amp;Fin</td>\n",
              "      <td>55.50</td>\n",
              "    </tr>\n",
              "    <tr>\n",
              "      <th>...</th>\n",
              "      <td>...</td>\n",
              "      <td>...</td>\n",
              "      <td>...</td>\n",
              "      <td>...</td>\n",
              "      <td>...</td>\n",
              "      <td>...</td>\n",
              "      <td>...</td>\n",
              "      <td>...</td>\n",
              "      <td>...</td>\n",
              "      <td>...</td>\n",
              "      <td>...</td>\n",
              "      <td>...</td>\n",
              "      <td>...</td>\n",
              "    </tr>\n",
              "    <tr>\n",
              "      <th>210</th>\n",
              "      <td>211</td>\n",
              "      <td>M</td>\n",
              "      <td>80.60</td>\n",
              "      <td>Others</td>\n",
              "      <td>82.00</td>\n",
              "      <td>Others</td>\n",
              "      <td>Commerce</td>\n",
              "      <td>77.60</td>\n",
              "      <td>Comm&amp;Mgmt</td>\n",
              "      <td>No</td>\n",
              "      <td>91.0</td>\n",
              "      <td>Mkt&amp;Fin</td>\n",
              "      <td>74.49</td>\n",
              "    </tr>\n",
              "    <tr>\n",
              "      <th>211</th>\n",
              "      <td>212</td>\n",
              "      <td>M</td>\n",
              "      <td>58.00</td>\n",
              "      <td>Others</td>\n",
              "      <td>60.00</td>\n",
              "      <td>Others</td>\n",
              "      <td>Science</td>\n",
              "      <td>72.00</td>\n",
              "      <td>Sci&amp;Tech</td>\n",
              "      <td>No</td>\n",
              "      <td>74.0</td>\n",
              "      <td>Mkt&amp;Fin</td>\n",
              "      <td>53.62</td>\n",
              "    </tr>\n",
              "    <tr>\n",
              "      <th>212</th>\n",
              "      <td>213</td>\n",
              "      <td>M</td>\n",
              "      <td>67.00</td>\n",
              "      <td>Others</td>\n",
              "      <td>67.00</td>\n",
              "      <td>Others</td>\n",
              "      <td>Commerce</td>\n",
              "      <td>73.00</td>\n",
              "      <td>Comm&amp;Mgmt</td>\n",
              "      <td>Yes</td>\n",
              "      <td>59.0</td>\n",
              "      <td>Mkt&amp;Fin</td>\n",
              "      <td>69.72</td>\n",
              "    </tr>\n",
              "    <tr>\n",
              "      <th>213</th>\n",
              "      <td>214</td>\n",
              "      <td>F</td>\n",
              "      <td>74.00</td>\n",
              "      <td>Others</td>\n",
              "      <td>66.00</td>\n",
              "      <td>Others</td>\n",
              "      <td>Commerce</td>\n",
              "      <td>58.00</td>\n",
              "      <td>Comm&amp;Mgmt</td>\n",
              "      <td>No</td>\n",
              "      <td>70.0</td>\n",
              "      <td>Mkt&amp;HR</td>\n",
              "      <td>60.23</td>\n",
              "    </tr>\n",
              "    <tr>\n",
              "      <th>214</th>\n",
              "      <td>215</td>\n",
              "      <td>M</td>\n",
              "      <td>62.00</td>\n",
              "      <td>Central</td>\n",
              "      <td>58.00</td>\n",
              "      <td>Others</td>\n",
              "      <td>Science</td>\n",
              "      <td>53.00</td>\n",
              "      <td>Comm&amp;Mgmt</td>\n",
              "      <td>No</td>\n",
              "      <td>89.0</td>\n",
              "      <td>Mkt&amp;HR</td>\n",
              "      <td>60.22</td>\n",
              "    </tr>\n",
              "  </tbody>\n",
              "</table>\n",
              "<p>215 rows × 13 columns</p>\n",
              "</div>"
            ],
            "text/plain": [
              "     sl_no gender  ssc_p    ssc_b  ...  workex etest_p specialisation  mba_p\n",
              "0        1      M  67.00   Others  ...      No    55.0         Mkt&HR  58.80\n",
              "1        2      M  79.33  Central  ...     Yes    86.5        Mkt&Fin  66.28\n",
              "2        3      M  65.00  Central  ...      No    75.0        Mkt&Fin  57.80\n",
              "3        4      M  56.00  Central  ...      No    66.0         Mkt&HR  59.43\n",
              "4        5      M  85.80  Central  ...      No    96.8        Mkt&Fin  55.50\n",
              "..     ...    ...    ...      ...  ...     ...     ...            ...    ...\n",
              "210    211      M  80.60   Others  ...      No    91.0        Mkt&Fin  74.49\n",
              "211    212      M  58.00   Others  ...      No    74.0        Mkt&Fin  53.62\n",
              "212    213      M  67.00   Others  ...     Yes    59.0        Mkt&Fin  69.72\n",
              "213    214      F  74.00   Others  ...      No    70.0         Mkt&HR  60.23\n",
              "214    215      M  62.00  Central  ...      No    89.0         Mkt&HR  60.22\n",
              "\n",
              "[215 rows x 13 columns]"
            ]
          },
          "metadata": {
            "tags": []
          },
          "execution_count": 357
        }
      ]
    },
    {
      "cell_type": "code",
      "metadata": {
        "id": "Rb4XePPgtz5F",
        "colab_type": "code",
        "colab": {
          "base_uri": "https://localhost:8080/",
          "height": 230
        },
        "outputId": "65b5d60f-c4ec-41ef-f297-e7d1ac6fa996"
      },
      "source": [
        "y"
      ],
      "execution_count": 358,
      "outputs": [
        {
          "output_type": "execute_result",
          "data": {
            "text/plain": [
              "0          Placed\n",
              "1          Placed\n",
              "2          Placed\n",
              "3      Not Placed\n",
              "4          Placed\n",
              "          ...    \n",
              "210        Placed\n",
              "211        Placed\n",
              "212        Placed\n",
              "213        Placed\n",
              "214    Not Placed\n",
              "Name: status, Length: 215, dtype: object"
            ]
          },
          "metadata": {
            "tags": []
          },
          "execution_count": 358
        }
      ]
    },
    {
      "cell_type": "code",
      "metadata": {
        "id": "p6AdP_-Wt22M",
        "colab_type": "code",
        "colab": {
          "base_uri": "https://localhost:8080/",
          "height": 603
        },
        "outputId": "e21448bd-65d4-455f-e8ae-3c46fd5e00c3"
      },
      "source": [
        "y = y.to_numpy()\n",
        "print(y)"
      ],
      "execution_count": 359,
      "outputs": [
        {
          "output_type": "stream",
          "text": [
            "['Placed' 'Placed' 'Placed' 'Not Placed' 'Placed' 'Not Placed'\n",
            " 'Not Placed' 'Placed' 'Placed' 'Not Placed' 'Placed' 'Placed'\n",
            " 'Not Placed' 'Placed' 'Not Placed' 'Placed' 'Placed' 'Not Placed'\n",
            " 'Not Placed' 'Placed' 'Placed' 'Placed' 'Placed' 'Placed' 'Placed'\n",
            " 'Not Placed' 'Placed' 'Placed' 'Placed' 'Not Placed' 'Placed'\n",
            " 'Not Placed' 'Placed' 'Placed' 'Not Placed' 'Placed' 'Not Placed'\n",
            " 'Placed' 'Placed' 'Placed' 'Placed' 'Not Placed' 'Not Placed' 'Placed'\n",
            " 'Placed' 'Not Placed' 'Not Placed' 'Placed' 'Placed' 'Not Placed'\n",
            " 'Placed' 'Not Placed' 'Not Placed' 'Placed' 'Placed' 'Placed' 'Placed'\n",
            " 'Placed' 'Placed' 'Placed' 'Placed' 'Placed' 'Placed' 'Not Placed'\n",
            " 'Placed' 'Not Placed' 'Placed' 'Placed' 'Not Placed' 'Placed' 'Placed'\n",
            " 'Placed' 'Placed' 'Placed' 'Placed' 'Not Placed' 'Placed' 'Placed'\n",
            " 'Placed' 'Not Placed' 'Placed' 'Placed' 'Not Placed' 'Placed' 'Placed'\n",
            " 'Placed' 'Placed' 'Not Placed' 'Placed' 'Placed' 'Placed' 'Not Placed'\n",
            " 'Placed' 'Not Placed' 'Placed' 'Placed' 'Placed' 'Not Placed' 'Placed'\n",
            " 'Not Placed' 'Not Placed' 'Placed' 'Placed' 'Placed' 'Placed'\n",
            " 'Not Placed' 'Not Placed' 'Placed' 'Placed' 'Not Placed' 'Placed'\n",
            " 'Not Placed' 'Placed' 'Placed' 'Placed' 'Placed' 'Placed' 'Placed'\n",
            " 'Placed' 'Placed' 'Not Placed' 'Placed' 'Placed' 'Placed' 'Placed'\n",
            " 'Placed' 'Placed' 'Placed' 'Placed' 'Placed' 'Not Placed' 'Placed'\n",
            " 'Placed' 'Placed' 'Placed' 'Placed' 'Not Placed' 'Placed' 'Placed'\n",
            " 'Placed' 'Placed' 'Not Placed' 'Placed' 'Placed' 'Not Placed' 'Placed'\n",
            " 'Placed' 'Placed' 'Placed' 'Not Placed' 'Placed' 'Placed' 'Placed'\n",
            " 'Placed' 'Placed' 'Not Placed' 'Placed' 'Placed' 'Not Placed'\n",
            " 'Not Placed' 'Placed' 'Not Placed' 'Placed' 'Placed' 'Placed'\n",
            " 'Not Placed' 'Placed' 'Not Placed' 'Not Placed' 'Not Placed' 'Not Placed'\n",
            " 'Placed' 'Placed' 'Not Placed' 'Placed' 'Not Placed' 'Placed' 'Placed'\n",
            " 'Placed' 'Not Placed' 'Placed' 'Not Placed' 'Not Placed' 'Placed'\n",
            " 'Not Placed' 'Placed' 'Not Placed' 'Placed' 'Not Placed' 'Not Placed'\n",
            " 'Not Placed' 'Placed' 'Placed' 'Placed' 'Not Placed' 'Placed' 'Placed'\n",
            " 'Placed' 'Not Placed' 'Placed' 'Placed' 'Not Placed' 'Placed' 'Placed'\n",
            " 'Placed' 'Placed' 'Not Placed' 'Placed' 'Not Placed' 'Placed' 'Placed'\n",
            " 'Placed' 'Placed' 'Placed' 'Not Placed']\n"
          ],
          "name": "stdout"
        }
      ]
    },
    {
      "cell_type": "code",
      "metadata": {
        "id": "HkssJz-Nt7et",
        "colab_type": "code",
        "colab": {
          "base_uri": "https://localhost:8080/",
          "height": 141
        },
        "outputId": "a5629ac2-652c-4e04-c2ac-925d348f6f7b"
      },
      "source": [
        "x = x.to_numpy()\n",
        "print(x)"
      ],
      "execution_count": 360,
      "outputs": [
        {
          "output_type": "stream",
          "text": [
            "[[1 'M' 67.0 ... 55.0 'Mkt&HR' 58.8]\n",
            " [2 'M' 79.33 ... 86.5 'Mkt&Fin' 66.28]\n",
            " [3 'M' 65.0 ... 75.0 'Mkt&Fin' 57.8]\n",
            " ...\n",
            " [213 'M' 67.0 ... 59.0 'Mkt&Fin' 69.72]\n",
            " [214 'F' 74.0 ... 70.0 'Mkt&HR' 60.23]\n",
            " [215 'M' 62.0 ... 89.0 'Mkt&HR' 60.22]]\n"
          ],
          "name": "stdout"
        }
      ]
    },
    {
      "cell_type": "code",
      "metadata": {
        "id": "Wx5mpkCct9ua",
        "colab_type": "code",
        "colab": {
          "base_uri": "https://localhost:8080/",
          "height": 727
        },
        "outputId": "e57e98e7-6cb9-4f03-e978-6536a19e3d5e"
      },
      "source": [
        "x = campus.drop(['status','salary'],axis=1).values\n",
        "y = campus.iloc[:,-2].values\n",
        "print(x)\n",
        "print(y)"
      ],
      "execution_count": 361,
      "outputs": [
        {
          "output_type": "stream",
          "text": [
            "[[1 'M' 67.0 ... 55.0 'Mkt&HR' 58.8]\n",
            " [2 'M' 79.33 ... 86.5 'Mkt&Fin' 66.28]\n",
            " [3 'M' 65.0 ... 75.0 'Mkt&Fin' 57.8]\n",
            " ...\n",
            " [213 'M' 67.0 ... 59.0 'Mkt&Fin' 69.72]\n",
            " [214 'F' 74.0 ... 70.0 'Mkt&HR' 60.23]\n",
            " [215 'M' 62.0 ... 89.0 'Mkt&HR' 60.22]]\n",
            "['Placed' 'Placed' 'Placed' 'Not Placed' 'Placed' 'Not Placed'\n",
            " 'Not Placed' 'Placed' 'Placed' 'Not Placed' 'Placed' 'Placed'\n",
            " 'Not Placed' 'Placed' 'Not Placed' 'Placed' 'Placed' 'Not Placed'\n",
            " 'Not Placed' 'Placed' 'Placed' 'Placed' 'Placed' 'Placed' 'Placed'\n",
            " 'Not Placed' 'Placed' 'Placed' 'Placed' 'Not Placed' 'Placed'\n",
            " 'Not Placed' 'Placed' 'Placed' 'Not Placed' 'Placed' 'Not Placed'\n",
            " 'Placed' 'Placed' 'Placed' 'Placed' 'Not Placed' 'Not Placed' 'Placed'\n",
            " 'Placed' 'Not Placed' 'Not Placed' 'Placed' 'Placed' 'Not Placed'\n",
            " 'Placed' 'Not Placed' 'Not Placed' 'Placed' 'Placed' 'Placed' 'Placed'\n",
            " 'Placed' 'Placed' 'Placed' 'Placed' 'Placed' 'Placed' 'Not Placed'\n",
            " 'Placed' 'Not Placed' 'Placed' 'Placed' 'Not Placed' 'Placed' 'Placed'\n",
            " 'Placed' 'Placed' 'Placed' 'Placed' 'Not Placed' 'Placed' 'Placed'\n",
            " 'Placed' 'Not Placed' 'Placed' 'Placed' 'Not Placed' 'Placed' 'Placed'\n",
            " 'Placed' 'Placed' 'Not Placed' 'Placed' 'Placed' 'Placed' 'Not Placed'\n",
            " 'Placed' 'Not Placed' 'Placed' 'Placed' 'Placed' 'Not Placed' 'Placed'\n",
            " 'Not Placed' 'Not Placed' 'Placed' 'Placed' 'Placed' 'Placed'\n",
            " 'Not Placed' 'Not Placed' 'Placed' 'Placed' 'Not Placed' 'Placed'\n",
            " 'Not Placed' 'Placed' 'Placed' 'Placed' 'Placed' 'Placed' 'Placed'\n",
            " 'Placed' 'Placed' 'Not Placed' 'Placed' 'Placed' 'Placed' 'Placed'\n",
            " 'Placed' 'Placed' 'Placed' 'Placed' 'Placed' 'Not Placed' 'Placed'\n",
            " 'Placed' 'Placed' 'Placed' 'Placed' 'Not Placed' 'Placed' 'Placed'\n",
            " 'Placed' 'Placed' 'Not Placed' 'Placed' 'Placed' 'Not Placed' 'Placed'\n",
            " 'Placed' 'Placed' 'Placed' 'Not Placed' 'Placed' 'Placed' 'Placed'\n",
            " 'Placed' 'Placed' 'Not Placed' 'Placed' 'Placed' 'Not Placed'\n",
            " 'Not Placed' 'Placed' 'Not Placed' 'Placed' 'Placed' 'Placed'\n",
            " 'Not Placed' 'Placed' 'Not Placed' 'Not Placed' 'Not Placed' 'Not Placed'\n",
            " 'Placed' 'Placed' 'Not Placed' 'Placed' 'Not Placed' 'Placed' 'Placed'\n",
            " 'Placed' 'Not Placed' 'Placed' 'Not Placed' 'Not Placed' 'Placed'\n",
            " 'Not Placed' 'Placed' 'Not Placed' 'Placed' 'Not Placed' 'Not Placed'\n",
            " 'Not Placed' 'Placed' 'Placed' 'Placed' 'Not Placed' 'Placed' 'Placed'\n",
            " 'Placed' 'Not Placed' 'Placed' 'Placed' 'Not Placed' 'Placed' 'Placed'\n",
            " 'Placed' 'Placed' 'Not Placed' 'Placed' 'Not Placed' 'Placed' 'Placed'\n",
            " 'Placed' 'Placed' 'Placed' 'Not Placed']\n"
          ],
          "name": "stdout"
        }
      ]
    },
    {
      "cell_type": "markdown",
      "metadata": {
        "id": "_1Qj40osNhXr",
        "colab_type": "text"
      },
      "source": [
        "#Encoding Textual Information\n",
        "\n",
        "\n"
      ]
    },
    {
      "cell_type": "markdown",
      "metadata": {
        "id": "QLT47zDrNkRC",
        "colab_type": "text"
      },
      "source": [
        "* One Hot Encoder ( independent features )\n",
        "* Label Encoder ( dependent features )"
      ]
    },
    {
      "cell_type": "markdown",
      "metadata": {
        "id": "P84S34iHNyfE",
        "colab_type": "text"
      },
      "source": [
        "##One Hot Encoder\n",
        "\n"
      ]
    },
    {
      "cell_type": "markdown",
      "metadata": {
        "id": "Dq2-GNmtN65O",
        "colab_type": "text"
      },
      "source": [
        "* For features\n",
        "* Converts categorical data into numeric data for better understanding."
      ]
    },
    {
      "cell_type": "code",
      "metadata": {
        "id": "w4n_YWPCuEmq",
        "colab_type": "code",
        "colab": {}
      },
      "source": [
        "from sklearn.compose import ColumnTransformer\n",
        "from sklearn.preprocessing import OneHotEncoder"
      ],
      "execution_count": 362,
      "outputs": []
    },
    {
      "cell_type": "code",
      "metadata": {
        "id": "kF-NCS8QuKDP",
        "colab_type": "code",
        "colab": {}
      },
      "source": [
        "ct = ColumnTransformer(transformers=[('encoder', OneHotEncoder(), [1])], remainder='passthrough')"
      ],
      "execution_count": 363,
      "outputs": []
    },
    {
      "cell_type": "code",
      "metadata": {
        "id": "qf_H8E5cuN82",
        "colab_type": "code",
        "colab": {}
      },
      "source": [
        "x = np.array(ct.fit_transform(x))"
      ],
      "execution_count": 364,
      "outputs": []
    },
    {
      "cell_type": "code",
      "metadata": {
        "id": "1OulFHuquQYL",
        "colab_type": "code",
        "colab": {
          "base_uri": "https://localhost:8080/",
          "height": 141
        },
        "outputId": "74c7b3b5-c69d-4cb3-96f5-8fc3d8c2ec4e"
      },
      "source": [
        "x"
      ],
      "execution_count": 365,
      "outputs": [
        {
          "output_type": "execute_result",
          "data": {
            "text/plain": [
              "array([[0.0, 1.0, 1, ..., 55.0, 'Mkt&HR', 58.8],\n",
              "       [0.0, 1.0, 2, ..., 86.5, 'Mkt&Fin', 66.28],\n",
              "       [0.0, 1.0, 3, ..., 75.0, 'Mkt&Fin', 57.8],\n",
              "       ...,\n",
              "       [0.0, 1.0, 213, ..., 59.0, 'Mkt&Fin', 69.72],\n",
              "       [1.0, 0.0, 214, ..., 70.0, 'Mkt&HR', 60.23],\n",
              "       [0.0, 1.0, 215, ..., 89.0, 'Mkt&HR', 60.22]], dtype=object)"
            ]
          },
          "metadata": {
            "tags": []
          },
          "execution_count": 365
        }
      ]
    },
    {
      "cell_type": "code",
      "metadata": {
        "id": "O3LPKhj3uRqh",
        "colab_type": "code",
        "colab": {}
      },
      "source": [
        "temp= pd.DataFrame(data=x)"
      ],
      "execution_count": 366,
      "outputs": []
    },
    {
      "cell_type": "code",
      "metadata": {
        "id": "CxwXrnV0uXSt",
        "colab_type": "code",
        "colab": {
          "base_uri": "https://localhost:8080/",
          "height": 406
        },
        "outputId": "6a104df8-6b0f-46f3-8137-d8509fb5b0fc"
      },
      "source": [
        "temp"
      ],
      "execution_count": 367,
      "outputs": [
        {
          "output_type": "execute_result",
          "data": {
            "text/html": [
              "<div>\n",
              "<style scoped>\n",
              "    .dataframe tbody tr th:only-of-type {\n",
              "        vertical-align: middle;\n",
              "    }\n",
              "\n",
              "    .dataframe tbody tr th {\n",
              "        vertical-align: top;\n",
              "    }\n",
              "\n",
              "    .dataframe thead th {\n",
              "        text-align: right;\n",
              "    }\n",
              "</style>\n",
              "<table border=\"1\" class=\"dataframe\">\n",
              "  <thead>\n",
              "    <tr style=\"text-align: right;\">\n",
              "      <th></th>\n",
              "      <th>0</th>\n",
              "      <th>1</th>\n",
              "      <th>2</th>\n",
              "      <th>3</th>\n",
              "      <th>4</th>\n",
              "      <th>5</th>\n",
              "      <th>6</th>\n",
              "      <th>7</th>\n",
              "      <th>8</th>\n",
              "      <th>9</th>\n",
              "      <th>10</th>\n",
              "      <th>11</th>\n",
              "      <th>12</th>\n",
              "      <th>13</th>\n",
              "    </tr>\n",
              "  </thead>\n",
              "  <tbody>\n",
              "    <tr>\n",
              "      <th>0</th>\n",
              "      <td>0</td>\n",
              "      <td>1</td>\n",
              "      <td>1</td>\n",
              "      <td>67</td>\n",
              "      <td>Others</td>\n",
              "      <td>91</td>\n",
              "      <td>Others</td>\n",
              "      <td>Commerce</td>\n",
              "      <td>58</td>\n",
              "      <td>Sci&amp;Tech</td>\n",
              "      <td>No</td>\n",
              "      <td>55</td>\n",
              "      <td>Mkt&amp;HR</td>\n",
              "      <td>58.8</td>\n",
              "    </tr>\n",
              "    <tr>\n",
              "      <th>1</th>\n",
              "      <td>0</td>\n",
              "      <td>1</td>\n",
              "      <td>2</td>\n",
              "      <td>79.33</td>\n",
              "      <td>Central</td>\n",
              "      <td>78.33</td>\n",
              "      <td>Others</td>\n",
              "      <td>Science</td>\n",
              "      <td>77.48</td>\n",
              "      <td>Sci&amp;Tech</td>\n",
              "      <td>Yes</td>\n",
              "      <td>86.5</td>\n",
              "      <td>Mkt&amp;Fin</td>\n",
              "      <td>66.28</td>\n",
              "    </tr>\n",
              "    <tr>\n",
              "      <th>2</th>\n",
              "      <td>0</td>\n",
              "      <td>1</td>\n",
              "      <td>3</td>\n",
              "      <td>65</td>\n",
              "      <td>Central</td>\n",
              "      <td>68</td>\n",
              "      <td>Central</td>\n",
              "      <td>Arts</td>\n",
              "      <td>64</td>\n",
              "      <td>Comm&amp;Mgmt</td>\n",
              "      <td>No</td>\n",
              "      <td>75</td>\n",
              "      <td>Mkt&amp;Fin</td>\n",
              "      <td>57.8</td>\n",
              "    </tr>\n",
              "    <tr>\n",
              "      <th>3</th>\n",
              "      <td>0</td>\n",
              "      <td>1</td>\n",
              "      <td>4</td>\n",
              "      <td>56</td>\n",
              "      <td>Central</td>\n",
              "      <td>52</td>\n",
              "      <td>Central</td>\n",
              "      <td>Science</td>\n",
              "      <td>52</td>\n",
              "      <td>Sci&amp;Tech</td>\n",
              "      <td>No</td>\n",
              "      <td>66</td>\n",
              "      <td>Mkt&amp;HR</td>\n",
              "      <td>59.43</td>\n",
              "    </tr>\n",
              "    <tr>\n",
              "      <th>4</th>\n",
              "      <td>0</td>\n",
              "      <td>1</td>\n",
              "      <td>5</td>\n",
              "      <td>85.8</td>\n",
              "      <td>Central</td>\n",
              "      <td>73.6</td>\n",
              "      <td>Central</td>\n",
              "      <td>Commerce</td>\n",
              "      <td>73.3</td>\n",
              "      <td>Comm&amp;Mgmt</td>\n",
              "      <td>No</td>\n",
              "      <td>96.8</td>\n",
              "      <td>Mkt&amp;Fin</td>\n",
              "      <td>55.5</td>\n",
              "    </tr>\n",
              "    <tr>\n",
              "      <th>...</th>\n",
              "      <td>...</td>\n",
              "      <td>...</td>\n",
              "      <td>...</td>\n",
              "      <td>...</td>\n",
              "      <td>...</td>\n",
              "      <td>...</td>\n",
              "      <td>...</td>\n",
              "      <td>...</td>\n",
              "      <td>...</td>\n",
              "      <td>...</td>\n",
              "      <td>...</td>\n",
              "      <td>...</td>\n",
              "      <td>...</td>\n",
              "      <td>...</td>\n",
              "    </tr>\n",
              "    <tr>\n",
              "      <th>210</th>\n",
              "      <td>0</td>\n",
              "      <td>1</td>\n",
              "      <td>211</td>\n",
              "      <td>80.6</td>\n",
              "      <td>Others</td>\n",
              "      <td>82</td>\n",
              "      <td>Others</td>\n",
              "      <td>Commerce</td>\n",
              "      <td>77.6</td>\n",
              "      <td>Comm&amp;Mgmt</td>\n",
              "      <td>No</td>\n",
              "      <td>91</td>\n",
              "      <td>Mkt&amp;Fin</td>\n",
              "      <td>74.49</td>\n",
              "    </tr>\n",
              "    <tr>\n",
              "      <th>211</th>\n",
              "      <td>0</td>\n",
              "      <td>1</td>\n",
              "      <td>212</td>\n",
              "      <td>58</td>\n",
              "      <td>Others</td>\n",
              "      <td>60</td>\n",
              "      <td>Others</td>\n",
              "      <td>Science</td>\n",
              "      <td>72</td>\n",
              "      <td>Sci&amp;Tech</td>\n",
              "      <td>No</td>\n",
              "      <td>74</td>\n",
              "      <td>Mkt&amp;Fin</td>\n",
              "      <td>53.62</td>\n",
              "    </tr>\n",
              "    <tr>\n",
              "      <th>212</th>\n",
              "      <td>0</td>\n",
              "      <td>1</td>\n",
              "      <td>213</td>\n",
              "      <td>67</td>\n",
              "      <td>Others</td>\n",
              "      <td>67</td>\n",
              "      <td>Others</td>\n",
              "      <td>Commerce</td>\n",
              "      <td>73</td>\n",
              "      <td>Comm&amp;Mgmt</td>\n",
              "      <td>Yes</td>\n",
              "      <td>59</td>\n",
              "      <td>Mkt&amp;Fin</td>\n",
              "      <td>69.72</td>\n",
              "    </tr>\n",
              "    <tr>\n",
              "      <th>213</th>\n",
              "      <td>1</td>\n",
              "      <td>0</td>\n",
              "      <td>214</td>\n",
              "      <td>74</td>\n",
              "      <td>Others</td>\n",
              "      <td>66</td>\n",
              "      <td>Others</td>\n",
              "      <td>Commerce</td>\n",
              "      <td>58</td>\n",
              "      <td>Comm&amp;Mgmt</td>\n",
              "      <td>No</td>\n",
              "      <td>70</td>\n",
              "      <td>Mkt&amp;HR</td>\n",
              "      <td>60.23</td>\n",
              "    </tr>\n",
              "    <tr>\n",
              "      <th>214</th>\n",
              "      <td>0</td>\n",
              "      <td>1</td>\n",
              "      <td>215</td>\n",
              "      <td>62</td>\n",
              "      <td>Central</td>\n",
              "      <td>58</td>\n",
              "      <td>Others</td>\n",
              "      <td>Science</td>\n",
              "      <td>53</td>\n",
              "      <td>Comm&amp;Mgmt</td>\n",
              "      <td>No</td>\n",
              "      <td>89</td>\n",
              "      <td>Mkt&amp;HR</td>\n",
              "      <td>60.22</td>\n",
              "    </tr>\n",
              "  </tbody>\n",
              "</table>\n",
              "<p>215 rows × 14 columns</p>\n",
              "</div>"
            ],
            "text/plain": [
              "    0  1    2      3        4   ...         9    10    11       12     13\n",
              "0    0  1    1     67   Others  ...   Sci&Tech   No    55   Mkt&HR   58.8\n",
              "1    0  1    2  79.33  Central  ...   Sci&Tech  Yes  86.5  Mkt&Fin  66.28\n",
              "2    0  1    3     65  Central  ...  Comm&Mgmt   No    75  Mkt&Fin   57.8\n",
              "3    0  1    4     56  Central  ...   Sci&Tech   No    66   Mkt&HR  59.43\n",
              "4    0  1    5   85.8  Central  ...  Comm&Mgmt   No  96.8  Mkt&Fin   55.5\n",
              "..  .. ..  ...    ...      ...  ...        ...  ...   ...      ...    ...\n",
              "210  0  1  211   80.6   Others  ...  Comm&Mgmt   No    91  Mkt&Fin  74.49\n",
              "211  0  1  212     58   Others  ...   Sci&Tech   No    74  Mkt&Fin  53.62\n",
              "212  0  1  213     67   Others  ...  Comm&Mgmt  Yes    59  Mkt&Fin  69.72\n",
              "213  1  0  214     74   Others  ...  Comm&Mgmt   No    70   Mkt&HR  60.23\n",
              "214  0  1  215     62  Central  ...  Comm&Mgmt   No    89   Mkt&HR  60.22\n",
              "\n",
              "[215 rows x 14 columns]"
            ]
          },
          "metadata": {
            "tags": []
          },
          "execution_count": 367
        }
      ]
    },
    {
      "cell_type": "code",
      "metadata": {
        "id": "kj2TjcjVuY-l",
        "colab_type": "code",
        "colab": {}
      },
      "source": [
        "ct = ColumnTransformer(transformers=[('encoder', OneHotEncoder(), [4])], remainder='passthrough')"
      ],
      "execution_count": 368,
      "outputs": []
    },
    {
      "cell_type": "code",
      "metadata": {
        "id": "0XqDQiFwucfG",
        "colab_type": "code",
        "colab": {}
      },
      "source": [
        "x = np.array(ct.fit_transform(x))"
      ],
      "execution_count": 369,
      "outputs": []
    },
    {
      "cell_type": "code",
      "metadata": {
        "id": "0om9JW-zuftQ",
        "colab_type": "code",
        "colab": {
          "base_uri": "https://localhost:8080/",
          "height": 141
        },
        "outputId": "a2ad158c-c2ca-40be-dc31-744ea04cd1f9"
      },
      "source": [
        "x"
      ],
      "execution_count": 370,
      "outputs": [
        {
          "output_type": "execute_result",
          "data": {
            "text/plain": [
              "array([[0.0, 1.0, 0.0, ..., 55.0, 'Mkt&HR', 58.8],\n",
              "       [1.0, 0.0, 0.0, ..., 86.5, 'Mkt&Fin', 66.28],\n",
              "       [1.0, 0.0, 0.0, ..., 75.0, 'Mkt&Fin', 57.8],\n",
              "       ...,\n",
              "       [0.0, 1.0, 0.0, ..., 59.0, 'Mkt&Fin', 69.72],\n",
              "       [0.0, 1.0, 1.0, ..., 70.0, 'Mkt&HR', 60.23],\n",
              "       [1.0, 0.0, 0.0, ..., 89.0, 'Mkt&HR', 60.22]], dtype=object)"
            ]
          },
          "metadata": {
            "tags": []
          },
          "execution_count": 370
        }
      ]
    },
    {
      "cell_type": "code",
      "metadata": {
        "id": "_UzPVPMRuqqy",
        "colab_type": "code",
        "colab": {}
      },
      "source": [
        "temp= pd.DataFrame(data=x)"
      ],
      "execution_count": 371,
      "outputs": []
    },
    {
      "cell_type": "code",
      "metadata": {
        "id": "mJfOdtM2utu-",
        "colab_type": "code",
        "colab": {
          "base_uri": "https://localhost:8080/",
          "height": 406
        },
        "outputId": "31d685ae-f6f7-4e6c-8d50-a8304bdf75a7"
      },
      "source": [
        "temp"
      ],
      "execution_count": 372,
      "outputs": [
        {
          "output_type": "execute_result",
          "data": {
            "text/html": [
              "<div>\n",
              "<style scoped>\n",
              "    .dataframe tbody tr th:only-of-type {\n",
              "        vertical-align: middle;\n",
              "    }\n",
              "\n",
              "    .dataframe tbody tr th {\n",
              "        vertical-align: top;\n",
              "    }\n",
              "\n",
              "    .dataframe thead th {\n",
              "        text-align: right;\n",
              "    }\n",
              "</style>\n",
              "<table border=\"1\" class=\"dataframe\">\n",
              "  <thead>\n",
              "    <tr style=\"text-align: right;\">\n",
              "      <th></th>\n",
              "      <th>0</th>\n",
              "      <th>1</th>\n",
              "      <th>2</th>\n",
              "      <th>3</th>\n",
              "      <th>4</th>\n",
              "      <th>5</th>\n",
              "      <th>6</th>\n",
              "      <th>7</th>\n",
              "      <th>8</th>\n",
              "      <th>9</th>\n",
              "      <th>10</th>\n",
              "      <th>11</th>\n",
              "      <th>12</th>\n",
              "      <th>13</th>\n",
              "      <th>14</th>\n",
              "    </tr>\n",
              "  </thead>\n",
              "  <tbody>\n",
              "    <tr>\n",
              "      <th>0</th>\n",
              "      <td>0</td>\n",
              "      <td>1</td>\n",
              "      <td>0</td>\n",
              "      <td>1</td>\n",
              "      <td>1</td>\n",
              "      <td>67</td>\n",
              "      <td>91</td>\n",
              "      <td>Others</td>\n",
              "      <td>Commerce</td>\n",
              "      <td>58</td>\n",
              "      <td>Sci&amp;Tech</td>\n",
              "      <td>No</td>\n",
              "      <td>55</td>\n",
              "      <td>Mkt&amp;HR</td>\n",
              "      <td>58.8</td>\n",
              "    </tr>\n",
              "    <tr>\n",
              "      <th>1</th>\n",
              "      <td>1</td>\n",
              "      <td>0</td>\n",
              "      <td>0</td>\n",
              "      <td>1</td>\n",
              "      <td>2</td>\n",
              "      <td>79.33</td>\n",
              "      <td>78.33</td>\n",
              "      <td>Others</td>\n",
              "      <td>Science</td>\n",
              "      <td>77.48</td>\n",
              "      <td>Sci&amp;Tech</td>\n",
              "      <td>Yes</td>\n",
              "      <td>86.5</td>\n",
              "      <td>Mkt&amp;Fin</td>\n",
              "      <td>66.28</td>\n",
              "    </tr>\n",
              "    <tr>\n",
              "      <th>2</th>\n",
              "      <td>1</td>\n",
              "      <td>0</td>\n",
              "      <td>0</td>\n",
              "      <td>1</td>\n",
              "      <td>3</td>\n",
              "      <td>65</td>\n",
              "      <td>68</td>\n",
              "      <td>Central</td>\n",
              "      <td>Arts</td>\n",
              "      <td>64</td>\n",
              "      <td>Comm&amp;Mgmt</td>\n",
              "      <td>No</td>\n",
              "      <td>75</td>\n",
              "      <td>Mkt&amp;Fin</td>\n",
              "      <td>57.8</td>\n",
              "    </tr>\n",
              "    <tr>\n",
              "      <th>3</th>\n",
              "      <td>1</td>\n",
              "      <td>0</td>\n",
              "      <td>0</td>\n",
              "      <td>1</td>\n",
              "      <td>4</td>\n",
              "      <td>56</td>\n",
              "      <td>52</td>\n",
              "      <td>Central</td>\n",
              "      <td>Science</td>\n",
              "      <td>52</td>\n",
              "      <td>Sci&amp;Tech</td>\n",
              "      <td>No</td>\n",
              "      <td>66</td>\n",
              "      <td>Mkt&amp;HR</td>\n",
              "      <td>59.43</td>\n",
              "    </tr>\n",
              "    <tr>\n",
              "      <th>4</th>\n",
              "      <td>1</td>\n",
              "      <td>0</td>\n",
              "      <td>0</td>\n",
              "      <td>1</td>\n",
              "      <td>5</td>\n",
              "      <td>85.8</td>\n",
              "      <td>73.6</td>\n",
              "      <td>Central</td>\n",
              "      <td>Commerce</td>\n",
              "      <td>73.3</td>\n",
              "      <td>Comm&amp;Mgmt</td>\n",
              "      <td>No</td>\n",
              "      <td>96.8</td>\n",
              "      <td>Mkt&amp;Fin</td>\n",
              "      <td>55.5</td>\n",
              "    </tr>\n",
              "    <tr>\n",
              "      <th>...</th>\n",
              "      <td>...</td>\n",
              "      <td>...</td>\n",
              "      <td>...</td>\n",
              "      <td>...</td>\n",
              "      <td>...</td>\n",
              "      <td>...</td>\n",
              "      <td>...</td>\n",
              "      <td>...</td>\n",
              "      <td>...</td>\n",
              "      <td>...</td>\n",
              "      <td>...</td>\n",
              "      <td>...</td>\n",
              "      <td>...</td>\n",
              "      <td>...</td>\n",
              "      <td>...</td>\n",
              "    </tr>\n",
              "    <tr>\n",
              "      <th>210</th>\n",
              "      <td>0</td>\n",
              "      <td>1</td>\n",
              "      <td>0</td>\n",
              "      <td>1</td>\n",
              "      <td>211</td>\n",
              "      <td>80.6</td>\n",
              "      <td>82</td>\n",
              "      <td>Others</td>\n",
              "      <td>Commerce</td>\n",
              "      <td>77.6</td>\n",
              "      <td>Comm&amp;Mgmt</td>\n",
              "      <td>No</td>\n",
              "      <td>91</td>\n",
              "      <td>Mkt&amp;Fin</td>\n",
              "      <td>74.49</td>\n",
              "    </tr>\n",
              "    <tr>\n",
              "      <th>211</th>\n",
              "      <td>0</td>\n",
              "      <td>1</td>\n",
              "      <td>0</td>\n",
              "      <td>1</td>\n",
              "      <td>212</td>\n",
              "      <td>58</td>\n",
              "      <td>60</td>\n",
              "      <td>Others</td>\n",
              "      <td>Science</td>\n",
              "      <td>72</td>\n",
              "      <td>Sci&amp;Tech</td>\n",
              "      <td>No</td>\n",
              "      <td>74</td>\n",
              "      <td>Mkt&amp;Fin</td>\n",
              "      <td>53.62</td>\n",
              "    </tr>\n",
              "    <tr>\n",
              "      <th>212</th>\n",
              "      <td>0</td>\n",
              "      <td>1</td>\n",
              "      <td>0</td>\n",
              "      <td>1</td>\n",
              "      <td>213</td>\n",
              "      <td>67</td>\n",
              "      <td>67</td>\n",
              "      <td>Others</td>\n",
              "      <td>Commerce</td>\n",
              "      <td>73</td>\n",
              "      <td>Comm&amp;Mgmt</td>\n",
              "      <td>Yes</td>\n",
              "      <td>59</td>\n",
              "      <td>Mkt&amp;Fin</td>\n",
              "      <td>69.72</td>\n",
              "    </tr>\n",
              "    <tr>\n",
              "      <th>213</th>\n",
              "      <td>0</td>\n",
              "      <td>1</td>\n",
              "      <td>1</td>\n",
              "      <td>0</td>\n",
              "      <td>214</td>\n",
              "      <td>74</td>\n",
              "      <td>66</td>\n",
              "      <td>Others</td>\n",
              "      <td>Commerce</td>\n",
              "      <td>58</td>\n",
              "      <td>Comm&amp;Mgmt</td>\n",
              "      <td>No</td>\n",
              "      <td>70</td>\n",
              "      <td>Mkt&amp;HR</td>\n",
              "      <td>60.23</td>\n",
              "    </tr>\n",
              "    <tr>\n",
              "      <th>214</th>\n",
              "      <td>1</td>\n",
              "      <td>0</td>\n",
              "      <td>0</td>\n",
              "      <td>1</td>\n",
              "      <td>215</td>\n",
              "      <td>62</td>\n",
              "      <td>58</td>\n",
              "      <td>Others</td>\n",
              "      <td>Science</td>\n",
              "      <td>53</td>\n",
              "      <td>Comm&amp;Mgmt</td>\n",
              "      <td>No</td>\n",
              "      <td>89</td>\n",
              "      <td>Mkt&amp;HR</td>\n",
              "      <td>60.22</td>\n",
              "    </tr>\n",
              "  </tbody>\n",
              "</table>\n",
              "<p>215 rows × 15 columns</p>\n",
              "</div>"
            ],
            "text/plain": [
              "    0  1  2  3    4      5   ...     9          10   11    12       13     14\n",
              "0    0  1  0  1    1     67  ...     58   Sci&Tech   No    55   Mkt&HR   58.8\n",
              "1    1  0  0  1    2  79.33  ...  77.48   Sci&Tech  Yes  86.5  Mkt&Fin  66.28\n",
              "2    1  0  0  1    3     65  ...     64  Comm&Mgmt   No    75  Mkt&Fin   57.8\n",
              "3    1  0  0  1    4     56  ...     52   Sci&Tech   No    66   Mkt&HR  59.43\n",
              "4    1  0  0  1    5   85.8  ...   73.3  Comm&Mgmt   No  96.8  Mkt&Fin   55.5\n",
              "..  .. .. .. ..  ...    ...  ...    ...        ...  ...   ...      ...    ...\n",
              "210  0  1  0  1  211   80.6  ...   77.6  Comm&Mgmt   No    91  Mkt&Fin  74.49\n",
              "211  0  1  0  1  212     58  ...     72   Sci&Tech   No    74  Mkt&Fin  53.62\n",
              "212  0  1  0  1  213     67  ...     73  Comm&Mgmt  Yes    59  Mkt&Fin  69.72\n",
              "213  0  1  1  0  214     74  ...     58  Comm&Mgmt   No    70   Mkt&HR  60.23\n",
              "214  1  0  0  1  215     62  ...     53  Comm&Mgmt   No    89   Mkt&HR  60.22\n",
              "\n",
              "[215 rows x 15 columns]"
            ]
          },
          "metadata": {
            "tags": []
          },
          "execution_count": 372
        }
      ]
    },
    {
      "cell_type": "code",
      "metadata": {
        "id": "rBJhR1nuuxOR",
        "colab_type": "code",
        "colab": {}
      },
      "source": [
        "ct = ColumnTransformer(transformers=[('encoder', OneHotEncoder(), [7])], remainder='passthrough')"
      ],
      "execution_count": 373,
      "outputs": []
    },
    {
      "cell_type": "code",
      "metadata": {
        "id": "aHabYMXEu4b_",
        "colab_type": "code",
        "colab": {}
      },
      "source": [
        "x = np.array(ct.fit_transform(x))"
      ],
      "execution_count": 374,
      "outputs": []
    },
    {
      "cell_type": "code",
      "metadata": {
        "id": "ivcf-J9bu7WU",
        "colab_type": "code",
        "colab": {
          "base_uri": "https://localhost:8080/",
          "height": 141
        },
        "outputId": "946ff6b9-bafb-4595-b15d-ca4adf7a5614"
      },
      "source": [
        "x"
      ],
      "execution_count": 375,
      "outputs": [
        {
          "output_type": "execute_result",
          "data": {
            "text/plain": [
              "array([[0.0, 1.0, 0.0, ..., 55.0, 'Mkt&HR', 58.8],\n",
              "       [0.0, 1.0, 1.0, ..., 86.5, 'Mkt&Fin', 66.28],\n",
              "       [1.0, 0.0, 1.0, ..., 75.0, 'Mkt&Fin', 57.8],\n",
              "       ...,\n",
              "       [0.0, 1.0, 0.0, ..., 59.0, 'Mkt&Fin', 69.72],\n",
              "       [0.0, 1.0, 0.0, ..., 70.0, 'Mkt&HR', 60.23],\n",
              "       [0.0, 1.0, 1.0, ..., 89.0, 'Mkt&HR', 60.22]], dtype=object)"
            ]
          },
          "metadata": {
            "tags": []
          },
          "execution_count": 375
        }
      ]
    },
    {
      "cell_type": "code",
      "metadata": {
        "id": "7UHq_HICu-Ce",
        "colab_type": "code",
        "colab": {}
      },
      "source": [
        "temp= pd.DataFrame(data=x)"
      ],
      "execution_count": 376,
      "outputs": []
    },
    {
      "cell_type": "code",
      "metadata": {
        "id": "40D_srzKvA-n",
        "colab_type": "code",
        "colab": {
          "base_uri": "https://localhost:8080/",
          "height": 406
        },
        "outputId": "9894e60d-604c-43e7-87e1-3976bd70b8a9"
      },
      "source": [
        "temp"
      ],
      "execution_count": 377,
      "outputs": [
        {
          "output_type": "execute_result",
          "data": {
            "text/html": [
              "<div>\n",
              "<style scoped>\n",
              "    .dataframe tbody tr th:only-of-type {\n",
              "        vertical-align: middle;\n",
              "    }\n",
              "\n",
              "    .dataframe tbody tr th {\n",
              "        vertical-align: top;\n",
              "    }\n",
              "\n",
              "    .dataframe thead th {\n",
              "        text-align: right;\n",
              "    }\n",
              "</style>\n",
              "<table border=\"1\" class=\"dataframe\">\n",
              "  <thead>\n",
              "    <tr style=\"text-align: right;\">\n",
              "      <th></th>\n",
              "      <th>0</th>\n",
              "      <th>1</th>\n",
              "      <th>2</th>\n",
              "      <th>3</th>\n",
              "      <th>4</th>\n",
              "      <th>5</th>\n",
              "      <th>6</th>\n",
              "      <th>7</th>\n",
              "      <th>8</th>\n",
              "      <th>9</th>\n",
              "      <th>10</th>\n",
              "      <th>11</th>\n",
              "      <th>12</th>\n",
              "      <th>13</th>\n",
              "      <th>14</th>\n",
              "      <th>15</th>\n",
              "    </tr>\n",
              "  </thead>\n",
              "  <tbody>\n",
              "    <tr>\n",
              "      <th>0</th>\n",
              "      <td>0</td>\n",
              "      <td>1</td>\n",
              "      <td>0</td>\n",
              "      <td>1</td>\n",
              "      <td>0</td>\n",
              "      <td>1</td>\n",
              "      <td>1</td>\n",
              "      <td>67</td>\n",
              "      <td>91</td>\n",
              "      <td>Commerce</td>\n",
              "      <td>58</td>\n",
              "      <td>Sci&amp;Tech</td>\n",
              "      <td>No</td>\n",
              "      <td>55</td>\n",
              "      <td>Mkt&amp;HR</td>\n",
              "      <td>58.8</td>\n",
              "    </tr>\n",
              "    <tr>\n",
              "      <th>1</th>\n",
              "      <td>0</td>\n",
              "      <td>1</td>\n",
              "      <td>1</td>\n",
              "      <td>0</td>\n",
              "      <td>0</td>\n",
              "      <td>1</td>\n",
              "      <td>2</td>\n",
              "      <td>79.33</td>\n",
              "      <td>78.33</td>\n",
              "      <td>Science</td>\n",
              "      <td>77.48</td>\n",
              "      <td>Sci&amp;Tech</td>\n",
              "      <td>Yes</td>\n",
              "      <td>86.5</td>\n",
              "      <td>Mkt&amp;Fin</td>\n",
              "      <td>66.28</td>\n",
              "    </tr>\n",
              "    <tr>\n",
              "      <th>2</th>\n",
              "      <td>1</td>\n",
              "      <td>0</td>\n",
              "      <td>1</td>\n",
              "      <td>0</td>\n",
              "      <td>0</td>\n",
              "      <td>1</td>\n",
              "      <td>3</td>\n",
              "      <td>65</td>\n",
              "      <td>68</td>\n",
              "      <td>Arts</td>\n",
              "      <td>64</td>\n",
              "      <td>Comm&amp;Mgmt</td>\n",
              "      <td>No</td>\n",
              "      <td>75</td>\n",
              "      <td>Mkt&amp;Fin</td>\n",
              "      <td>57.8</td>\n",
              "    </tr>\n",
              "    <tr>\n",
              "      <th>3</th>\n",
              "      <td>1</td>\n",
              "      <td>0</td>\n",
              "      <td>1</td>\n",
              "      <td>0</td>\n",
              "      <td>0</td>\n",
              "      <td>1</td>\n",
              "      <td>4</td>\n",
              "      <td>56</td>\n",
              "      <td>52</td>\n",
              "      <td>Science</td>\n",
              "      <td>52</td>\n",
              "      <td>Sci&amp;Tech</td>\n",
              "      <td>No</td>\n",
              "      <td>66</td>\n",
              "      <td>Mkt&amp;HR</td>\n",
              "      <td>59.43</td>\n",
              "    </tr>\n",
              "    <tr>\n",
              "      <th>4</th>\n",
              "      <td>1</td>\n",
              "      <td>0</td>\n",
              "      <td>1</td>\n",
              "      <td>0</td>\n",
              "      <td>0</td>\n",
              "      <td>1</td>\n",
              "      <td>5</td>\n",
              "      <td>85.8</td>\n",
              "      <td>73.6</td>\n",
              "      <td>Commerce</td>\n",
              "      <td>73.3</td>\n",
              "      <td>Comm&amp;Mgmt</td>\n",
              "      <td>No</td>\n",
              "      <td>96.8</td>\n",
              "      <td>Mkt&amp;Fin</td>\n",
              "      <td>55.5</td>\n",
              "    </tr>\n",
              "    <tr>\n",
              "      <th>...</th>\n",
              "      <td>...</td>\n",
              "      <td>...</td>\n",
              "      <td>...</td>\n",
              "      <td>...</td>\n",
              "      <td>...</td>\n",
              "      <td>...</td>\n",
              "      <td>...</td>\n",
              "      <td>...</td>\n",
              "      <td>...</td>\n",
              "      <td>...</td>\n",
              "      <td>...</td>\n",
              "      <td>...</td>\n",
              "      <td>...</td>\n",
              "      <td>...</td>\n",
              "      <td>...</td>\n",
              "      <td>...</td>\n",
              "    </tr>\n",
              "    <tr>\n",
              "      <th>210</th>\n",
              "      <td>0</td>\n",
              "      <td>1</td>\n",
              "      <td>0</td>\n",
              "      <td>1</td>\n",
              "      <td>0</td>\n",
              "      <td>1</td>\n",
              "      <td>211</td>\n",
              "      <td>80.6</td>\n",
              "      <td>82</td>\n",
              "      <td>Commerce</td>\n",
              "      <td>77.6</td>\n",
              "      <td>Comm&amp;Mgmt</td>\n",
              "      <td>No</td>\n",
              "      <td>91</td>\n",
              "      <td>Mkt&amp;Fin</td>\n",
              "      <td>74.49</td>\n",
              "    </tr>\n",
              "    <tr>\n",
              "      <th>211</th>\n",
              "      <td>0</td>\n",
              "      <td>1</td>\n",
              "      <td>0</td>\n",
              "      <td>1</td>\n",
              "      <td>0</td>\n",
              "      <td>1</td>\n",
              "      <td>212</td>\n",
              "      <td>58</td>\n",
              "      <td>60</td>\n",
              "      <td>Science</td>\n",
              "      <td>72</td>\n",
              "      <td>Sci&amp;Tech</td>\n",
              "      <td>No</td>\n",
              "      <td>74</td>\n",
              "      <td>Mkt&amp;Fin</td>\n",
              "      <td>53.62</td>\n",
              "    </tr>\n",
              "    <tr>\n",
              "      <th>212</th>\n",
              "      <td>0</td>\n",
              "      <td>1</td>\n",
              "      <td>0</td>\n",
              "      <td>1</td>\n",
              "      <td>0</td>\n",
              "      <td>1</td>\n",
              "      <td>213</td>\n",
              "      <td>67</td>\n",
              "      <td>67</td>\n",
              "      <td>Commerce</td>\n",
              "      <td>73</td>\n",
              "      <td>Comm&amp;Mgmt</td>\n",
              "      <td>Yes</td>\n",
              "      <td>59</td>\n",
              "      <td>Mkt&amp;Fin</td>\n",
              "      <td>69.72</td>\n",
              "    </tr>\n",
              "    <tr>\n",
              "      <th>213</th>\n",
              "      <td>0</td>\n",
              "      <td>1</td>\n",
              "      <td>0</td>\n",
              "      <td>1</td>\n",
              "      <td>1</td>\n",
              "      <td>0</td>\n",
              "      <td>214</td>\n",
              "      <td>74</td>\n",
              "      <td>66</td>\n",
              "      <td>Commerce</td>\n",
              "      <td>58</td>\n",
              "      <td>Comm&amp;Mgmt</td>\n",
              "      <td>No</td>\n",
              "      <td>70</td>\n",
              "      <td>Mkt&amp;HR</td>\n",
              "      <td>60.23</td>\n",
              "    </tr>\n",
              "    <tr>\n",
              "      <th>214</th>\n",
              "      <td>0</td>\n",
              "      <td>1</td>\n",
              "      <td>1</td>\n",
              "      <td>0</td>\n",
              "      <td>0</td>\n",
              "      <td>1</td>\n",
              "      <td>215</td>\n",
              "      <td>62</td>\n",
              "      <td>58</td>\n",
              "      <td>Science</td>\n",
              "      <td>53</td>\n",
              "      <td>Comm&amp;Mgmt</td>\n",
              "      <td>No</td>\n",
              "      <td>89</td>\n",
              "      <td>Mkt&amp;HR</td>\n",
              "      <td>60.22</td>\n",
              "    </tr>\n",
              "  </tbody>\n",
              "</table>\n",
              "<p>215 rows × 16 columns</p>\n",
              "</div>"
            ],
            "text/plain": [
              "    0  1  2  3  4  5   ...     10         11   12    13       14     15\n",
              "0    0  1  0  1  0  1  ...     58   Sci&Tech   No    55   Mkt&HR   58.8\n",
              "1    0  1  1  0  0  1  ...  77.48   Sci&Tech  Yes  86.5  Mkt&Fin  66.28\n",
              "2    1  0  1  0  0  1  ...     64  Comm&Mgmt   No    75  Mkt&Fin   57.8\n",
              "3    1  0  1  0  0  1  ...     52   Sci&Tech   No    66   Mkt&HR  59.43\n",
              "4    1  0  1  0  0  1  ...   73.3  Comm&Mgmt   No  96.8  Mkt&Fin   55.5\n",
              "..  .. .. .. .. .. ..  ...    ...        ...  ...   ...      ...    ...\n",
              "210  0  1  0  1  0  1  ...   77.6  Comm&Mgmt   No    91  Mkt&Fin  74.49\n",
              "211  0  1  0  1  0  1  ...     72   Sci&Tech   No    74  Mkt&Fin  53.62\n",
              "212  0  1  0  1  0  1  ...     73  Comm&Mgmt  Yes    59  Mkt&Fin  69.72\n",
              "213  0  1  0  1  1  0  ...     58  Comm&Mgmt   No    70   Mkt&HR  60.23\n",
              "214  0  1  1  0  0  1  ...     53  Comm&Mgmt   No    89   Mkt&HR  60.22\n",
              "\n",
              "[215 rows x 16 columns]"
            ]
          },
          "metadata": {
            "tags": []
          },
          "execution_count": 377
        }
      ]
    },
    {
      "cell_type": "code",
      "metadata": {
        "id": "d1QYxcGnvCkp",
        "colab_type": "code",
        "colab": {}
      },
      "source": [
        "ct = ColumnTransformer(transformers=[('encoder', OneHotEncoder(), [9])], remainder='passthrough')"
      ],
      "execution_count": 378,
      "outputs": []
    },
    {
      "cell_type": "code",
      "metadata": {
        "id": "OJz4wFlsvGPU",
        "colab_type": "code",
        "colab": {}
      },
      "source": [
        "x = np.array(ct.fit_transform(x))"
      ],
      "execution_count": 379,
      "outputs": []
    },
    {
      "cell_type": "code",
      "metadata": {
        "id": "A-P1hBkQvIa2",
        "colab_type": "code",
        "colab": {
          "base_uri": "https://localhost:8080/",
          "height": 141
        },
        "outputId": "8f596253-c448-432c-ed20-2fdc33f5b545"
      },
      "source": [
        "x"
      ],
      "execution_count": 380,
      "outputs": [
        {
          "output_type": "execute_result",
          "data": {
            "text/plain": [
              "array([[0.0, 1.0, 0.0, ..., 55.0, 'Mkt&HR', 58.8],\n",
              "       [0.0, 0.0, 1.0, ..., 86.5, 'Mkt&Fin', 66.28],\n",
              "       [1.0, 0.0, 0.0, ..., 75.0, 'Mkt&Fin', 57.8],\n",
              "       ...,\n",
              "       [0.0, 1.0, 0.0, ..., 59.0, 'Mkt&Fin', 69.72],\n",
              "       [0.0, 1.0, 0.0, ..., 70.0, 'Mkt&HR', 60.23],\n",
              "       [0.0, 0.0, 1.0, ..., 89.0, 'Mkt&HR', 60.22]], dtype=object)"
            ]
          },
          "metadata": {
            "tags": []
          },
          "execution_count": 380
        }
      ]
    },
    {
      "cell_type": "code",
      "metadata": {
        "id": "DHoROJMlvKMw",
        "colab_type": "code",
        "colab": {}
      },
      "source": [
        "temp= pd.DataFrame(data=x)"
      ],
      "execution_count": 381,
      "outputs": []
    },
    {
      "cell_type": "code",
      "metadata": {
        "id": "cMR-S9HqvMav",
        "colab_type": "code",
        "colab": {
          "base_uri": "https://localhost:8080/",
          "height": 406
        },
        "outputId": "ba0cbebf-d94b-44b0-d6b6-4d07da77e1e5"
      },
      "source": [
        "temp"
      ],
      "execution_count": 382,
      "outputs": [
        {
          "output_type": "execute_result",
          "data": {
            "text/html": [
              "<div>\n",
              "<style scoped>\n",
              "    .dataframe tbody tr th:only-of-type {\n",
              "        vertical-align: middle;\n",
              "    }\n",
              "\n",
              "    .dataframe tbody tr th {\n",
              "        vertical-align: top;\n",
              "    }\n",
              "\n",
              "    .dataframe thead th {\n",
              "        text-align: right;\n",
              "    }\n",
              "</style>\n",
              "<table border=\"1\" class=\"dataframe\">\n",
              "  <thead>\n",
              "    <tr style=\"text-align: right;\">\n",
              "      <th></th>\n",
              "      <th>0</th>\n",
              "      <th>1</th>\n",
              "      <th>2</th>\n",
              "      <th>3</th>\n",
              "      <th>4</th>\n",
              "      <th>5</th>\n",
              "      <th>6</th>\n",
              "      <th>7</th>\n",
              "      <th>8</th>\n",
              "      <th>9</th>\n",
              "      <th>10</th>\n",
              "      <th>11</th>\n",
              "      <th>12</th>\n",
              "      <th>13</th>\n",
              "      <th>14</th>\n",
              "      <th>15</th>\n",
              "      <th>16</th>\n",
              "      <th>17</th>\n",
              "    </tr>\n",
              "  </thead>\n",
              "  <tbody>\n",
              "    <tr>\n",
              "      <th>0</th>\n",
              "      <td>0</td>\n",
              "      <td>1</td>\n",
              "      <td>0</td>\n",
              "      <td>0</td>\n",
              "      <td>1</td>\n",
              "      <td>0</td>\n",
              "      <td>1</td>\n",
              "      <td>0</td>\n",
              "      <td>1</td>\n",
              "      <td>1</td>\n",
              "      <td>67</td>\n",
              "      <td>91</td>\n",
              "      <td>58</td>\n",
              "      <td>Sci&amp;Tech</td>\n",
              "      <td>No</td>\n",
              "      <td>55</td>\n",
              "      <td>Mkt&amp;HR</td>\n",
              "      <td>58.8</td>\n",
              "    </tr>\n",
              "    <tr>\n",
              "      <th>1</th>\n",
              "      <td>0</td>\n",
              "      <td>0</td>\n",
              "      <td>1</td>\n",
              "      <td>0</td>\n",
              "      <td>1</td>\n",
              "      <td>1</td>\n",
              "      <td>0</td>\n",
              "      <td>0</td>\n",
              "      <td>1</td>\n",
              "      <td>2</td>\n",
              "      <td>79.33</td>\n",
              "      <td>78.33</td>\n",
              "      <td>77.48</td>\n",
              "      <td>Sci&amp;Tech</td>\n",
              "      <td>Yes</td>\n",
              "      <td>86.5</td>\n",
              "      <td>Mkt&amp;Fin</td>\n",
              "      <td>66.28</td>\n",
              "    </tr>\n",
              "    <tr>\n",
              "      <th>2</th>\n",
              "      <td>1</td>\n",
              "      <td>0</td>\n",
              "      <td>0</td>\n",
              "      <td>1</td>\n",
              "      <td>0</td>\n",
              "      <td>1</td>\n",
              "      <td>0</td>\n",
              "      <td>0</td>\n",
              "      <td>1</td>\n",
              "      <td>3</td>\n",
              "      <td>65</td>\n",
              "      <td>68</td>\n",
              "      <td>64</td>\n",
              "      <td>Comm&amp;Mgmt</td>\n",
              "      <td>No</td>\n",
              "      <td>75</td>\n",
              "      <td>Mkt&amp;Fin</td>\n",
              "      <td>57.8</td>\n",
              "    </tr>\n",
              "    <tr>\n",
              "      <th>3</th>\n",
              "      <td>0</td>\n",
              "      <td>0</td>\n",
              "      <td>1</td>\n",
              "      <td>1</td>\n",
              "      <td>0</td>\n",
              "      <td>1</td>\n",
              "      <td>0</td>\n",
              "      <td>0</td>\n",
              "      <td>1</td>\n",
              "      <td>4</td>\n",
              "      <td>56</td>\n",
              "      <td>52</td>\n",
              "      <td>52</td>\n",
              "      <td>Sci&amp;Tech</td>\n",
              "      <td>No</td>\n",
              "      <td>66</td>\n",
              "      <td>Mkt&amp;HR</td>\n",
              "      <td>59.43</td>\n",
              "    </tr>\n",
              "    <tr>\n",
              "      <th>4</th>\n",
              "      <td>0</td>\n",
              "      <td>1</td>\n",
              "      <td>0</td>\n",
              "      <td>1</td>\n",
              "      <td>0</td>\n",
              "      <td>1</td>\n",
              "      <td>0</td>\n",
              "      <td>0</td>\n",
              "      <td>1</td>\n",
              "      <td>5</td>\n",
              "      <td>85.8</td>\n",
              "      <td>73.6</td>\n",
              "      <td>73.3</td>\n",
              "      <td>Comm&amp;Mgmt</td>\n",
              "      <td>No</td>\n",
              "      <td>96.8</td>\n",
              "      <td>Mkt&amp;Fin</td>\n",
              "      <td>55.5</td>\n",
              "    </tr>\n",
              "    <tr>\n",
              "      <th>...</th>\n",
              "      <td>...</td>\n",
              "      <td>...</td>\n",
              "      <td>...</td>\n",
              "      <td>...</td>\n",
              "      <td>...</td>\n",
              "      <td>...</td>\n",
              "      <td>...</td>\n",
              "      <td>...</td>\n",
              "      <td>...</td>\n",
              "      <td>...</td>\n",
              "      <td>...</td>\n",
              "      <td>...</td>\n",
              "      <td>...</td>\n",
              "      <td>...</td>\n",
              "      <td>...</td>\n",
              "      <td>...</td>\n",
              "      <td>...</td>\n",
              "      <td>...</td>\n",
              "    </tr>\n",
              "    <tr>\n",
              "      <th>210</th>\n",
              "      <td>0</td>\n",
              "      <td>1</td>\n",
              "      <td>0</td>\n",
              "      <td>0</td>\n",
              "      <td>1</td>\n",
              "      <td>0</td>\n",
              "      <td>1</td>\n",
              "      <td>0</td>\n",
              "      <td>1</td>\n",
              "      <td>211</td>\n",
              "      <td>80.6</td>\n",
              "      <td>82</td>\n",
              "      <td>77.6</td>\n",
              "      <td>Comm&amp;Mgmt</td>\n",
              "      <td>No</td>\n",
              "      <td>91</td>\n",
              "      <td>Mkt&amp;Fin</td>\n",
              "      <td>74.49</td>\n",
              "    </tr>\n",
              "    <tr>\n",
              "      <th>211</th>\n",
              "      <td>0</td>\n",
              "      <td>0</td>\n",
              "      <td>1</td>\n",
              "      <td>0</td>\n",
              "      <td>1</td>\n",
              "      <td>0</td>\n",
              "      <td>1</td>\n",
              "      <td>0</td>\n",
              "      <td>1</td>\n",
              "      <td>212</td>\n",
              "      <td>58</td>\n",
              "      <td>60</td>\n",
              "      <td>72</td>\n",
              "      <td>Sci&amp;Tech</td>\n",
              "      <td>No</td>\n",
              "      <td>74</td>\n",
              "      <td>Mkt&amp;Fin</td>\n",
              "      <td>53.62</td>\n",
              "    </tr>\n",
              "    <tr>\n",
              "      <th>212</th>\n",
              "      <td>0</td>\n",
              "      <td>1</td>\n",
              "      <td>0</td>\n",
              "      <td>0</td>\n",
              "      <td>1</td>\n",
              "      <td>0</td>\n",
              "      <td>1</td>\n",
              "      <td>0</td>\n",
              "      <td>1</td>\n",
              "      <td>213</td>\n",
              "      <td>67</td>\n",
              "      <td>67</td>\n",
              "      <td>73</td>\n",
              "      <td>Comm&amp;Mgmt</td>\n",
              "      <td>Yes</td>\n",
              "      <td>59</td>\n",
              "      <td>Mkt&amp;Fin</td>\n",
              "      <td>69.72</td>\n",
              "    </tr>\n",
              "    <tr>\n",
              "      <th>213</th>\n",
              "      <td>0</td>\n",
              "      <td>1</td>\n",
              "      <td>0</td>\n",
              "      <td>0</td>\n",
              "      <td>1</td>\n",
              "      <td>0</td>\n",
              "      <td>1</td>\n",
              "      <td>1</td>\n",
              "      <td>0</td>\n",
              "      <td>214</td>\n",
              "      <td>74</td>\n",
              "      <td>66</td>\n",
              "      <td>58</td>\n",
              "      <td>Comm&amp;Mgmt</td>\n",
              "      <td>No</td>\n",
              "      <td>70</td>\n",
              "      <td>Mkt&amp;HR</td>\n",
              "      <td>60.23</td>\n",
              "    </tr>\n",
              "    <tr>\n",
              "      <th>214</th>\n",
              "      <td>0</td>\n",
              "      <td>0</td>\n",
              "      <td>1</td>\n",
              "      <td>0</td>\n",
              "      <td>1</td>\n",
              "      <td>1</td>\n",
              "      <td>0</td>\n",
              "      <td>0</td>\n",
              "      <td>1</td>\n",
              "      <td>215</td>\n",
              "      <td>62</td>\n",
              "      <td>58</td>\n",
              "      <td>53</td>\n",
              "      <td>Comm&amp;Mgmt</td>\n",
              "      <td>No</td>\n",
              "      <td>89</td>\n",
              "      <td>Mkt&amp;HR</td>\n",
              "      <td>60.22</td>\n",
              "    </tr>\n",
              "  </tbody>\n",
              "</table>\n",
              "<p>215 rows × 18 columns</p>\n",
              "</div>"
            ],
            "text/plain": [
              "    0  1  2  3  4  5  6   ...     11     12         13   14    15       16     17\n",
              "0    0  1  0  0  1  0  1  ...     91     58   Sci&Tech   No    55   Mkt&HR   58.8\n",
              "1    0  0  1  0  1  1  0  ...  78.33  77.48   Sci&Tech  Yes  86.5  Mkt&Fin  66.28\n",
              "2    1  0  0  1  0  1  0  ...     68     64  Comm&Mgmt   No    75  Mkt&Fin   57.8\n",
              "3    0  0  1  1  0  1  0  ...     52     52   Sci&Tech   No    66   Mkt&HR  59.43\n",
              "4    0  1  0  1  0  1  0  ...   73.6   73.3  Comm&Mgmt   No  96.8  Mkt&Fin   55.5\n",
              "..  .. .. .. .. .. .. ..  ...    ...    ...        ...  ...   ...      ...    ...\n",
              "210  0  1  0  0  1  0  1  ...     82   77.6  Comm&Mgmt   No    91  Mkt&Fin  74.49\n",
              "211  0  0  1  0  1  0  1  ...     60     72   Sci&Tech   No    74  Mkt&Fin  53.62\n",
              "212  0  1  0  0  1  0  1  ...     67     73  Comm&Mgmt  Yes    59  Mkt&Fin  69.72\n",
              "213  0  1  0  0  1  0  1  ...     66     58  Comm&Mgmt   No    70   Mkt&HR  60.23\n",
              "214  0  0  1  0  1  1  0  ...     58     53  Comm&Mgmt   No    89   Mkt&HR  60.22\n",
              "\n",
              "[215 rows x 18 columns]"
            ]
          },
          "metadata": {
            "tags": []
          },
          "execution_count": 382
        }
      ]
    },
    {
      "cell_type": "code",
      "metadata": {
        "id": "CaG_pRn6vNdA",
        "colab_type": "code",
        "colab": {}
      },
      "source": [
        "ct = ColumnTransformer(transformers=[('encoder', OneHotEncoder(), [13])], remainder='passthrough')"
      ],
      "execution_count": 383,
      "outputs": []
    },
    {
      "cell_type": "code",
      "metadata": {
        "id": "zv-PbwgmvP-R",
        "colab_type": "code",
        "colab": {}
      },
      "source": [
        "x = np.array(ct.fit_transform(x))"
      ],
      "execution_count": 384,
      "outputs": []
    },
    {
      "cell_type": "code",
      "metadata": {
        "id": "BThyufYivR3u",
        "colab_type": "code",
        "colab": {
          "base_uri": "https://localhost:8080/",
          "height": 141
        },
        "outputId": "6ea92583-7c13-4547-8584-d292f74e738f"
      },
      "source": [
        "x"
      ],
      "execution_count": 385,
      "outputs": [
        {
          "output_type": "execute_result",
          "data": {
            "text/plain": [
              "array([[0.0, 0.0, 1.0, ..., 55.0, 'Mkt&HR', 58.8],\n",
              "       [0.0, 0.0, 1.0, ..., 86.5, 'Mkt&Fin', 66.28],\n",
              "       [1.0, 0.0, 0.0, ..., 75.0, 'Mkt&Fin', 57.8],\n",
              "       ...,\n",
              "       [1.0, 0.0, 0.0, ..., 59.0, 'Mkt&Fin', 69.72],\n",
              "       [1.0, 0.0, 0.0, ..., 70.0, 'Mkt&HR', 60.23],\n",
              "       [1.0, 0.0, 0.0, ..., 89.0, 'Mkt&HR', 60.22]], dtype=object)"
            ]
          },
          "metadata": {
            "tags": []
          },
          "execution_count": 385
        }
      ]
    },
    {
      "cell_type": "code",
      "metadata": {
        "id": "6GfoyRsWvUqX",
        "colab_type": "code",
        "colab": {}
      },
      "source": [
        "temp= pd.DataFrame(data=x)"
      ],
      "execution_count": 386,
      "outputs": []
    },
    {
      "cell_type": "code",
      "metadata": {
        "id": "eTmaFSwqvXbU",
        "colab_type": "code",
        "colab": {
          "base_uri": "https://localhost:8080/",
          "height": 406
        },
        "outputId": "f175d9bc-030b-4592-d39d-dc12356f81af"
      },
      "source": [
        "temp"
      ],
      "execution_count": 387,
      "outputs": [
        {
          "output_type": "execute_result",
          "data": {
            "text/html": [
              "<div>\n",
              "<style scoped>\n",
              "    .dataframe tbody tr th:only-of-type {\n",
              "        vertical-align: middle;\n",
              "    }\n",
              "\n",
              "    .dataframe tbody tr th {\n",
              "        vertical-align: top;\n",
              "    }\n",
              "\n",
              "    .dataframe thead th {\n",
              "        text-align: right;\n",
              "    }\n",
              "</style>\n",
              "<table border=\"1\" class=\"dataframe\">\n",
              "  <thead>\n",
              "    <tr style=\"text-align: right;\">\n",
              "      <th></th>\n",
              "      <th>0</th>\n",
              "      <th>1</th>\n",
              "      <th>2</th>\n",
              "      <th>3</th>\n",
              "      <th>4</th>\n",
              "      <th>5</th>\n",
              "      <th>6</th>\n",
              "      <th>7</th>\n",
              "      <th>8</th>\n",
              "      <th>9</th>\n",
              "      <th>10</th>\n",
              "      <th>11</th>\n",
              "      <th>12</th>\n",
              "      <th>13</th>\n",
              "      <th>14</th>\n",
              "      <th>15</th>\n",
              "      <th>16</th>\n",
              "      <th>17</th>\n",
              "      <th>18</th>\n",
              "      <th>19</th>\n",
              "    </tr>\n",
              "  </thead>\n",
              "  <tbody>\n",
              "    <tr>\n",
              "      <th>0</th>\n",
              "      <td>0</td>\n",
              "      <td>0</td>\n",
              "      <td>1</td>\n",
              "      <td>0</td>\n",
              "      <td>1</td>\n",
              "      <td>0</td>\n",
              "      <td>0</td>\n",
              "      <td>1</td>\n",
              "      <td>0</td>\n",
              "      <td>1</td>\n",
              "      <td>0</td>\n",
              "      <td>1</td>\n",
              "      <td>1</td>\n",
              "      <td>67</td>\n",
              "      <td>91</td>\n",
              "      <td>58</td>\n",
              "      <td>No</td>\n",
              "      <td>55</td>\n",
              "      <td>Mkt&amp;HR</td>\n",
              "      <td>58.8</td>\n",
              "    </tr>\n",
              "    <tr>\n",
              "      <th>1</th>\n",
              "      <td>0</td>\n",
              "      <td>0</td>\n",
              "      <td>1</td>\n",
              "      <td>0</td>\n",
              "      <td>0</td>\n",
              "      <td>1</td>\n",
              "      <td>0</td>\n",
              "      <td>1</td>\n",
              "      <td>1</td>\n",
              "      <td>0</td>\n",
              "      <td>0</td>\n",
              "      <td>1</td>\n",
              "      <td>2</td>\n",
              "      <td>79.33</td>\n",
              "      <td>78.33</td>\n",
              "      <td>77.48</td>\n",
              "      <td>Yes</td>\n",
              "      <td>86.5</td>\n",
              "      <td>Mkt&amp;Fin</td>\n",
              "      <td>66.28</td>\n",
              "    </tr>\n",
              "    <tr>\n",
              "      <th>2</th>\n",
              "      <td>1</td>\n",
              "      <td>0</td>\n",
              "      <td>0</td>\n",
              "      <td>1</td>\n",
              "      <td>0</td>\n",
              "      <td>0</td>\n",
              "      <td>1</td>\n",
              "      <td>0</td>\n",
              "      <td>1</td>\n",
              "      <td>0</td>\n",
              "      <td>0</td>\n",
              "      <td>1</td>\n",
              "      <td>3</td>\n",
              "      <td>65</td>\n",
              "      <td>68</td>\n",
              "      <td>64</td>\n",
              "      <td>No</td>\n",
              "      <td>75</td>\n",
              "      <td>Mkt&amp;Fin</td>\n",
              "      <td>57.8</td>\n",
              "    </tr>\n",
              "    <tr>\n",
              "      <th>3</th>\n",
              "      <td>0</td>\n",
              "      <td>0</td>\n",
              "      <td>1</td>\n",
              "      <td>0</td>\n",
              "      <td>0</td>\n",
              "      <td>1</td>\n",
              "      <td>1</td>\n",
              "      <td>0</td>\n",
              "      <td>1</td>\n",
              "      <td>0</td>\n",
              "      <td>0</td>\n",
              "      <td>1</td>\n",
              "      <td>4</td>\n",
              "      <td>56</td>\n",
              "      <td>52</td>\n",
              "      <td>52</td>\n",
              "      <td>No</td>\n",
              "      <td>66</td>\n",
              "      <td>Mkt&amp;HR</td>\n",
              "      <td>59.43</td>\n",
              "    </tr>\n",
              "    <tr>\n",
              "      <th>4</th>\n",
              "      <td>1</td>\n",
              "      <td>0</td>\n",
              "      <td>0</td>\n",
              "      <td>0</td>\n",
              "      <td>1</td>\n",
              "      <td>0</td>\n",
              "      <td>1</td>\n",
              "      <td>0</td>\n",
              "      <td>1</td>\n",
              "      <td>0</td>\n",
              "      <td>0</td>\n",
              "      <td>1</td>\n",
              "      <td>5</td>\n",
              "      <td>85.8</td>\n",
              "      <td>73.6</td>\n",
              "      <td>73.3</td>\n",
              "      <td>No</td>\n",
              "      <td>96.8</td>\n",
              "      <td>Mkt&amp;Fin</td>\n",
              "      <td>55.5</td>\n",
              "    </tr>\n",
              "    <tr>\n",
              "      <th>...</th>\n",
              "      <td>...</td>\n",
              "      <td>...</td>\n",
              "      <td>...</td>\n",
              "      <td>...</td>\n",
              "      <td>...</td>\n",
              "      <td>...</td>\n",
              "      <td>...</td>\n",
              "      <td>...</td>\n",
              "      <td>...</td>\n",
              "      <td>...</td>\n",
              "      <td>...</td>\n",
              "      <td>...</td>\n",
              "      <td>...</td>\n",
              "      <td>...</td>\n",
              "      <td>...</td>\n",
              "      <td>...</td>\n",
              "      <td>...</td>\n",
              "      <td>...</td>\n",
              "      <td>...</td>\n",
              "      <td>...</td>\n",
              "    </tr>\n",
              "    <tr>\n",
              "      <th>210</th>\n",
              "      <td>1</td>\n",
              "      <td>0</td>\n",
              "      <td>0</td>\n",
              "      <td>0</td>\n",
              "      <td>1</td>\n",
              "      <td>0</td>\n",
              "      <td>0</td>\n",
              "      <td>1</td>\n",
              "      <td>0</td>\n",
              "      <td>1</td>\n",
              "      <td>0</td>\n",
              "      <td>1</td>\n",
              "      <td>211</td>\n",
              "      <td>80.6</td>\n",
              "      <td>82</td>\n",
              "      <td>77.6</td>\n",
              "      <td>No</td>\n",
              "      <td>91</td>\n",
              "      <td>Mkt&amp;Fin</td>\n",
              "      <td>74.49</td>\n",
              "    </tr>\n",
              "    <tr>\n",
              "      <th>211</th>\n",
              "      <td>0</td>\n",
              "      <td>0</td>\n",
              "      <td>1</td>\n",
              "      <td>0</td>\n",
              "      <td>0</td>\n",
              "      <td>1</td>\n",
              "      <td>0</td>\n",
              "      <td>1</td>\n",
              "      <td>0</td>\n",
              "      <td>1</td>\n",
              "      <td>0</td>\n",
              "      <td>1</td>\n",
              "      <td>212</td>\n",
              "      <td>58</td>\n",
              "      <td>60</td>\n",
              "      <td>72</td>\n",
              "      <td>No</td>\n",
              "      <td>74</td>\n",
              "      <td>Mkt&amp;Fin</td>\n",
              "      <td>53.62</td>\n",
              "    </tr>\n",
              "    <tr>\n",
              "      <th>212</th>\n",
              "      <td>1</td>\n",
              "      <td>0</td>\n",
              "      <td>0</td>\n",
              "      <td>0</td>\n",
              "      <td>1</td>\n",
              "      <td>0</td>\n",
              "      <td>0</td>\n",
              "      <td>1</td>\n",
              "      <td>0</td>\n",
              "      <td>1</td>\n",
              "      <td>0</td>\n",
              "      <td>1</td>\n",
              "      <td>213</td>\n",
              "      <td>67</td>\n",
              "      <td>67</td>\n",
              "      <td>73</td>\n",
              "      <td>Yes</td>\n",
              "      <td>59</td>\n",
              "      <td>Mkt&amp;Fin</td>\n",
              "      <td>69.72</td>\n",
              "    </tr>\n",
              "    <tr>\n",
              "      <th>213</th>\n",
              "      <td>1</td>\n",
              "      <td>0</td>\n",
              "      <td>0</td>\n",
              "      <td>0</td>\n",
              "      <td>1</td>\n",
              "      <td>0</td>\n",
              "      <td>0</td>\n",
              "      <td>1</td>\n",
              "      <td>0</td>\n",
              "      <td>1</td>\n",
              "      <td>1</td>\n",
              "      <td>0</td>\n",
              "      <td>214</td>\n",
              "      <td>74</td>\n",
              "      <td>66</td>\n",
              "      <td>58</td>\n",
              "      <td>No</td>\n",
              "      <td>70</td>\n",
              "      <td>Mkt&amp;HR</td>\n",
              "      <td>60.23</td>\n",
              "    </tr>\n",
              "    <tr>\n",
              "      <th>214</th>\n",
              "      <td>1</td>\n",
              "      <td>0</td>\n",
              "      <td>0</td>\n",
              "      <td>0</td>\n",
              "      <td>0</td>\n",
              "      <td>1</td>\n",
              "      <td>0</td>\n",
              "      <td>1</td>\n",
              "      <td>1</td>\n",
              "      <td>0</td>\n",
              "      <td>0</td>\n",
              "      <td>1</td>\n",
              "      <td>215</td>\n",
              "      <td>62</td>\n",
              "      <td>58</td>\n",
              "      <td>53</td>\n",
              "      <td>No</td>\n",
              "      <td>89</td>\n",
              "      <td>Mkt&amp;HR</td>\n",
              "      <td>60.22</td>\n",
              "    </tr>\n",
              "  </tbody>\n",
              "</table>\n",
              "<p>215 rows × 20 columns</p>\n",
              "</div>"
            ],
            "text/plain": [
              "    0  1  2  3  4  5  6   ...     13     14     15   16    17       18     19\n",
              "0    0  0  1  0  1  0  0  ...     67     91     58   No    55   Mkt&HR   58.8\n",
              "1    0  0  1  0  0  1  0  ...  79.33  78.33  77.48  Yes  86.5  Mkt&Fin  66.28\n",
              "2    1  0  0  1  0  0  1  ...     65     68     64   No    75  Mkt&Fin   57.8\n",
              "3    0  0  1  0  0  1  1  ...     56     52     52   No    66   Mkt&HR  59.43\n",
              "4    1  0  0  0  1  0  1  ...   85.8   73.6   73.3   No  96.8  Mkt&Fin   55.5\n",
              "..  .. .. .. .. .. .. ..  ...    ...    ...    ...  ...   ...      ...    ...\n",
              "210  1  0  0  0  1  0  0  ...   80.6     82   77.6   No    91  Mkt&Fin  74.49\n",
              "211  0  0  1  0  0  1  0  ...     58     60     72   No    74  Mkt&Fin  53.62\n",
              "212  1  0  0  0  1  0  0  ...     67     67     73  Yes    59  Mkt&Fin  69.72\n",
              "213  1  0  0  0  1  0  0  ...     74     66     58   No    70   Mkt&HR  60.23\n",
              "214  1  0  0  0  0  1  0  ...     62     58     53   No    89   Mkt&HR  60.22\n",
              "\n",
              "[215 rows x 20 columns]"
            ]
          },
          "metadata": {
            "tags": []
          },
          "execution_count": 387
        }
      ]
    },
    {
      "cell_type": "code",
      "metadata": {
        "id": "2lYElq-TvYZK",
        "colab_type": "code",
        "colab": {}
      },
      "source": [
        "ct = ColumnTransformer(transformers=[('encoder', OneHotEncoder(), [16])], remainder='passthrough')"
      ],
      "execution_count": 388,
      "outputs": []
    },
    {
      "cell_type": "code",
      "metadata": {
        "id": "qhyx8iWIvbC1",
        "colab_type": "code",
        "colab": {}
      },
      "source": [
        "x = np.array(ct.fit_transform(x))"
      ],
      "execution_count": 389,
      "outputs": []
    },
    {
      "cell_type": "code",
      "metadata": {
        "id": "ikxCK7rwviJ8",
        "colab_type": "code",
        "colab": {
          "base_uri": "https://localhost:8080/",
          "height": 141
        },
        "outputId": "ac5434ad-a1c7-4990-d877-bd4f4a3951b9"
      },
      "source": [
        "x"
      ],
      "execution_count": 390,
      "outputs": [
        {
          "output_type": "execute_result",
          "data": {
            "text/plain": [
              "array([[1.0, 0.0, 0.0, ..., 55.0, 'Mkt&HR', 58.8],\n",
              "       [0.0, 1.0, 0.0, ..., 86.5, 'Mkt&Fin', 66.28],\n",
              "       [1.0, 0.0, 1.0, ..., 75.0, 'Mkt&Fin', 57.8],\n",
              "       ...,\n",
              "       [0.0, 1.0, 1.0, ..., 59.0, 'Mkt&Fin', 69.72],\n",
              "       [1.0, 0.0, 1.0, ..., 70.0, 'Mkt&HR', 60.23],\n",
              "       [1.0, 0.0, 1.0, ..., 89.0, 'Mkt&HR', 60.22]], dtype=object)"
            ]
          },
          "metadata": {
            "tags": []
          },
          "execution_count": 390
        }
      ]
    },
    {
      "cell_type": "code",
      "metadata": {
        "id": "9V8714G1vius",
        "colab_type": "code",
        "colab": {}
      },
      "source": [
        "temp= pd.DataFrame(data=x)"
      ],
      "execution_count": 391,
      "outputs": []
    },
    {
      "cell_type": "code",
      "metadata": {
        "id": "8Wt7iw34vlBw",
        "colab_type": "code",
        "colab": {
          "base_uri": "https://localhost:8080/",
          "height": 406
        },
        "outputId": "311ab6b4-8863-4224-f97c-84b0e90d0861"
      },
      "source": [
        "temp"
      ],
      "execution_count": 392,
      "outputs": [
        {
          "output_type": "execute_result",
          "data": {
            "text/html": [
              "<div>\n",
              "<style scoped>\n",
              "    .dataframe tbody tr th:only-of-type {\n",
              "        vertical-align: middle;\n",
              "    }\n",
              "\n",
              "    .dataframe tbody tr th {\n",
              "        vertical-align: top;\n",
              "    }\n",
              "\n",
              "    .dataframe thead th {\n",
              "        text-align: right;\n",
              "    }\n",
              "</style>\n",
              "<table border=\"1\" class=\"dataframe\">\n",
              "  <thead>\n",
              "    <tr style=\"text-align: right;\">\n",
              "      <th></th>\n",
              "      <th>0</th>\n",
              "      <th>1</th>\n",
              "      <th>2</th>\n",
              "      <th>3</th>\n",
              "      <th>4</th>\n",
              "      <th>5</th>\n",
              "      <th>6</th>\n",
              "      <th>7</th>\n",
              "      <th>8</th>\n",
              "      <th>9</th>\n",
              "      <th>10</th>\n",
              "      <th>11</th>\n",
              "      <th>12</th>\n",
              "      <th>13</th>\n",
              "      <th>14</th>\n",
              "      <th>15</th>\n",
              "      <th>16</th>\n",
              "      <th>17</th>\n",
              "      <th>18</th>\n",
              "      <th>19</th>\n",
              "      <th>20</th>\n",
              "    </tr>\n",
              "  </thead>\n",
              "  <tbody>\n",
              "    <tr>\n",
              "      <th>0</th>\n",
              "      <td>1</td>\n",
              "      <td>0</td>\n",
              "      <td>0</td>\n",
              "      <td>0</td>\n",
              "      <td>1</td>\n",
              "      <td>0</td>\n",
              "      <td>1</td>\n",
              "      <td>0</td>\n",
              "      <td>0</td>\n",
              "      <td>1</td>\n",
              "      <td>0</td>\n",
              "      <td>1</td>\n",
              "      <td>0</td>\n",
              "      <td>1</td>\n",
              "      <td>1</td>\n",
              "      <td>67</td>\n",
              "      <td>91</td>\n",
              "      <td>58</td>\n",
              "      <td>55</td>\n",
              "      <td>Mkt&amp;HR</td>\n",
              "      <td>58.8</td>\n",
              "    </tr>\n",
              "    <tr>\n",
              "      <th>1</th>\n",
              "      <td>0</td>\n",
              "      <td>1</td>\n",
              "      <td>0</td>\n",
              "      <td>0</td>\n",
              "      <td>1</td>\n",
              "      <td>0</td>\n",
              "      <td>0</td>\n",
              "      <td>1</td>\n",
              "      <td>0</td>\n",
              "      <td>1</td>\n",
              "      <td>1</td>\n",
              "      <td>0</td>\n",
              "      <td>0</td>\n",
              "      <td>1</td>\n",
              "      <td>2</td>\n",
              "      <td>79.33</td>\n",
              "      <td>78.33</td>\n",
              "      <td>77.48</td>\n",
              "      <td>86.5</td>\n",
              "      <td>Mkt&amp;Fin</td>\n",
              "      <td>66.28</td>\n",
              "    </tr>\n",
              "    <tr>\n",
              "      <th>2</th>\n",
              "      <td>1</td>\n",
              "      <td>0</td>\n",
              "      <td>1</td>\n",
              "      <td>0</td>\n",
              "      <td>0</td>\n",
              "      <td>1</td>\n",
              "      <td>0</td>\n",
              "      <td>0</td>\n",
              "      <td>1</td>\n",
              "      <td>0</td>\n",
              "      <td>1</td>\n",
              "      <td>0</td>\n",
              "      <td>0</td>\n",
              "      <td>1</td>\n",
              "      <td>3</td>\n",
              "      <td>65</td>\n",
              "      <td>68</td>\n",
              "      <td>64</td>\n",
              "      <td>75</td>\n",
              "      <td>Mkt&amp;Fin</td>\n",
              "      <td>57.8</td>\n",
              "    </tr>\n",
              "    <tr>\n",
              "      <th>3</th>\n",
              "      <td>1</td>\n",
              "      <td>0</td>\n",
              "      <td>0</td>\n",
              "      <td>0</td>\n",
              "      <td>1</td>\n",
              "      <td>0</td>\n",
              "      <td>0</td>\n",
              "      <td>1</td>\n",
              "      <td>1</td>\n",
              "      <td>0</td>\n",
              "      <td>1</td>\n",
              "      <td>0</td>\n",
              "      <td>0</td>\n",
              "      <td>1</td>\n",
              "      <td>4</td>\n",
              "      <td>56</td>\n",
              "      <td>52</td>\n",
              "      <td>52</td>\n",
              "      <td>66</td>\n",
              "      <td>Mkt&amp;HR</td>\n",
              "      <td>59.43</td>\n",
              "    </tr>\n",
              "    <tr>\n",
              "      <th>4</th>\n",
              "      <td>1</td>\n",
              "      <td>0</td>\n",
              "      <td>1</td>\n",
              "      <td>0</td>\n",
              "      <td>0</td>\n",
              "      <td>0</td>\n",
              "      <td>1</td>\n",
              "      <td>0</td>\n",
              "      <td>1</td>\n",
              "      <td>0</td>\n",
              "      <td>1</td>\n",
              "      <td>0</td>\n",
              "      <td>0</td>\n",
              "      <td>1</td>\n",
              "      <td>5</td>\n",
              "      <td>85.8</td>\n",
              "      <td>73.6</td>\n",
              "      <td>73.3</td>\n",
              "      <td>96.8</td>\n",
              "      <td>Mkt&amp;Fin</td>\n",
              "      <td>55.5</td>\n",
              "    </tr>\n",
              "    <tr>\n",
              "      <th>...</th>\n",
              "      <td>...</td>\n",
              "      <td>...</td>\n",
              "      <td>...</td>\n",
              "      <td>...</td>\n",
              "      <td>...</td>\n",
              "      <td>...</td>\n",
              "      <td>...</td>\n",
              "      <td>...</td>\n",
              "      <td>...</td>\n",
              "      <td>...</td>\n",
              "      <td>...</td>\n",
              "      <td>...</td>\n",
              "      <td>...</td>\n",
              "      <td>...</td>\n",
              "      <td>...</td>\n",
              "      <td>...</td>\n",
              "      <td>...</td>\n",
              "      <td>...</td>\n",
              "      <td>...</td>\n",
              "      <td>...</td>\n",
              "      <td>...</td>\n",
              "    </tr>\n",
              "    <tr>\n",
              "      <th>210</th>\n",
              "      <td>1</td>\n",
              "      <td>0</td>\n",
              "      <td>1</td>\n",
              "      <td>0</td>\n",
              "      <td>0</td>\n",
              "      <td>0</td>\n",
              "      <td>1</td>\n",
              "      <td>0</td>\n",
              "      <td>0</td>\n",
              "      <td>1</td>\n",
              "      <td>0</td>\n",
              "      <td>1</td>\n",
              "      <td>0</td>\n",
              "      <td>1</td>\n",
              "      <td>211</td>\n",
              "      <td>80.6</td>\n",
              "      <td>82</td>\n",
              "      <td>77.6</td>\n",
              "      <td>91</td>\n",
              "      <td>Mkt&amp;Fin</td>\n",
              "      <td>74.49</td>\n",
              "    </tr>\n",
              "    <tr>\n",
              "      <th>211</th>\n",
              "      <td>1</td>\n",
              "      <td>0</td>\n",
              "      <td>0</td>\n",
              "      <td>0</td>\n",
              "      <td>1</td>\n",
              "      <td>0</td>\n",
              "      <td>0</td>\n",
              "      <td>1</td>\n",
              "      <td>0</td>\n",
              "      <td>1</td>\n",
              "      <td>0</td>\n",
              "      <td>1</td>\n",
              "      <td>0</td>\n",
              "      <td>1</td>\n",
              "      <td>212</td>\n",
              "      <td>58</td>\n",
              "      <td>60</td>\n",
              "      <td>72</td>\n",
              "      <td>74</td>\n",
              "      <td>Mkt&amp;Fin</td>\n",
              "      <td>53.62</td>\n",
              "    </tr>\n",
              "    <tr>\n",
              "      <th>212</th>\n",
              "      <td>0</td>\n",
              "      <td>1</td>\n",
              "      <td>1</td>\n",
              "      <td>0</td>\n",
              "      <td>0</td>\n",
              "      <td>0</td>\n",
              "      <td>1</td>\n",
              "      <td>0</td>\n",
              "      <td>0</td>\n",
              "      <td>1</td>\n",
              "      <td>0</td>\n",
              "      <td>1</td>\n",
              "      <td>0</td>\n",
              "      <td>1</td>\n",
              "      <td>213</td>\n",
              "      <td>67</td>\n",
              "      <td>67</td>\n",
              "      <td>73</td>\n",
              "      <td>59</td>\n",
              "      <td>Mkt&amp;Fin</td>\n",
              "      <td>69.72</td>\n",
              "    </tr>\n",
              "    <tr>\n",
              "      <th>213</th>\n",
              "      <td>1</td>\n",
              "      <td>0</td>\n",
              "      <td>1</td>\n",
              "      <td>0</td>\n",
              "      <td>0</td>\n",
              "      <td>0</td>\n",
              "      <td>1</td>\n",
              "      <td>0</td>\n",
              "      <td>0</td>\n",
              "      <td>1</td>\n",
              "      <td>0</td>\n",
              "      <td>1</td>\n",
              "      <td>1</td>\n",
              "      <td>0</td>\n",
              "      <td>214</td>\n",
              "      <td>74</td>\n",
              "      <td>66</td>\n",
              "      <td>58</td>\n",
              "      <td>70</td>\n",
              "      <td>Mkt&amp;HR</td>\n",
              "      <td>60.23</td>\n",
              "    </tr>\n",
              "    <tr>\n",
              "      <th>214</th>\n",
              "      <td>1</td>\n",
              "      <td>0</td>\n",
              "      <td>1</td>\n",
              "      <td>0</td>\n",
              "      <td>0</td>\n",
              "      <td>0</td>\n",
              "      <td>0</td>\n",
              "      <td>1</td>\n",
              "      <td>0</td>\n",
              "      <td>1</td>\n",
              "      <td>1</td>\n",
              "      <td>0</td>\n",
              "      <td>0</td>\n",
              "      <td>1</td>\n",
              "      <td>215</td>\n",
              "      <td>62</td>\n",
              "      <td>58</td>\n",
              "      <td>53</td>\n",
              "      <td>89</td>\n",
              "      <td>Mkt&amp;HR</td>\n",
              "      <td>60.22</td>\n",
              "    </tr>\n",
              "  </tbody>\n",
              "</table>\n",
              "<p>215 rows × 21 columns</p>\n",
              "</div>"
            ],
            "text/plain": [
              "    0  1  2  3  4  5  6  7   ... 13   14     15     16     17    18       19     20\n",
              "0    1  0  0  0  1  0  1  0  ...  1    1     67     91     58    55   Mkt&HR   58.8\n",
              "1    0  1  0  0  1  0  0  1  ...  1    2  79.33  78.33  77.48  86.5  Mkt&Fin  66.28\n",
              "2    1  0  1  0  0  1  0  0  ...  1    3     65     68     64    75  Mkt&Fin   57.8\n",
              "3    1  0  0  0  1  0  0  1  ...  1    4     56     52     52    66   Mkt&HR  59.43\n",
              "4    1  0  1  0  0  0  1  0  ...  1    5   85.8   73.6   73.3  96.8  Mkt&Fin   55.5\n",
              "..  .. .. .. .. .. .. .. ..  ... ..  ...    ...    ...    ...   ...      ...    ...\n",
              "210  1  0  1  0  0  0  1  0  ...  1  211   80.6     82   77.6    91  Mkt&Fin  74.49\n",
              "211  1  0  0  0  1  0  0  1  ...  1  212     58     60     72    74  Mkt&Fin  53.62\n",
              "212  0  1  1  0  0  0  1  0  ...  1  213     67     67     73    59  Mkt&Fin  69.72\n",
              "213  1  0  1  0  0  0  1  0  ...  0  214     74     66     58    70   Mkt&HR  60.23\n",
              "214  1  0  1  0  0  0  0  1  ...  1  215     62     58     53    89   Mkt&HR  60.22\n",
              "\n",
              "[215 rows x 21 columns]"
            ]
          },
          "metadata": {
            "tags": []
          },
          "execution_count": 392
        }
      ]
    },
    {
      "cell_type": "code",
      "metadata": {
        "id": "eRjq45OWvlsz",
        "colab_type": "code",
        "colab": {}
      },
      "source": [
        "ct = ColumnTransformer(transformers=[('encoder', OneHotEncoder(), [19])], remainder='passthrough')"
      ],
      "execution_count": 393,
      "outputs": []
    },
    {
      "cell_type": "code",
      "metadata": {
        "id": "bYB-Z9eyvp6t",
        "colab_type": "code",
        "colab": {}
      },
      "source": [
        "x = np.array(ct.fit_transform(x))"
      ],
      "execution_count": 394,
      "outputs": []
    },
    {
      "cell_type": "code",
      "metadata": {
        "id": "QaeZPw8xvriv",
        "colab_type": "code",
        "colab": {
          "base_uri": "https://localhost:8080/",
          "height": 141
        },
        "outputId": "da26c081-14c4-4d9e-a5a2-a72d554f7bd1"
      },
      "source": [
        "x"
      ],
      "execution_count": 395,
      "outputs": [
        {
          "output_type": "execute_result",
          "data": {
            "text/plain": [
              "array([[0.0, 1.0, 1.0, ..., 58.0, 55.0, 58.8],\n",
              "       [1.0, 0.0, 0.0, ..., 77.48, 86.5, 66.28],\n",
              "       [1.0, 0.0, 1.0, ..., 64.0, 75.0, 57.8],\n",
              "       ...,\n",
              "       [1.0, 0.0, 0.0, ..., 73.0, 59.0, 69.72],\n",
              "       [0.0, 1.0, 1.0, ..., 58.0, 70.0, 60.23],\n",
              "       [0.0, 1.0, 1.0, ..., 53.0, 89.0, 60.22]], dtype=object)"
            ]
          },
          "metadata": {
            "tags": []
          },
          "execution_count": 395
        }
      ]
    },
    {
      "cell_type": "code",
      "metadata": {
        "id": "DrRNtgeivstQ",
        "colab_type": "code",
        "colab": {}
      },
      "source": [
        "temp= pd.DataFrame(data=x)"
      ],
      "execution_count": 396,
      "outputs": []
    },
    {
      "cell_type": "code",
      "metadata": {
        "id": "4T8eE206vvIe",
        "colab_type": "code",
        "colab": {
          "base_uri": "https://localhost:8080/",
          "height": 406
        },
        "outputId": "f5511972-163d-4ebd-e9d3-c91e172d8c31"
      },
      "source": [
        "temp"
      ],
      "execution_count": 397,
      "outputs": [
        {
          "output_type": "execute_result",
          "data": {
            "text/html": [
              "<div>\n",
              "<style scoped>\n",
              "    .dataframe tbody tr th:only-of-type {\n",
              "        vertical-align: middle;\n",
              "    }\n",
              "\n",
              "    .dataframe tbody tr th {\n",
              "        vertical-align: top;\n",
              "    }\n",
              "\n",
              "    .dataframe thead th {\n",
              "        text-align: right;\n",
              "    }\n",
              "</style>\n",
              "<table border=\"1\" class=\"dataframe\">\n",
              "  <thead>\n",
              "    <tr style=\"text-align: right;\">\n",
              "      <th></th>\n",
              "      <th>0</th>\n",
              "      <th>1</th>\n",
              "      <th>2</th>\n",
              "      <th>3</th>\n",
              "      <th>4</th>\n",
              "      <th>5</th>\n",
              "      <th>6</th>\n",
              "      <th>7</th>\n",
              "      <th>8</th>\n",
              "      <th>9</th>\n",
              "      <th>10</th>\n",
              "      <th>11</th>\n",
              "      <th>12</th>\n",
              "      <th>13</th>\n",
              "      <th>14</th>\n",
              "      <th>15</th>\n",
              "      <th>16</th>\n",
              "      <th>17</th>\n",
              "      <th>18</th>\n",
              "      <th>19</th>\n",
              "      <th>20</th>\n",
              "      <th>21</th>\n",
              "    </tr>\n",
              "  </thead>\n",
              "  <tbody>\n",
              "    <tr>\n",
              "      <th>0</th>\n",
              "      <td>0</td>\n",
              "      <td>1</td>\n",
              "      <td>1</td>\n",
              "      <td>0</td>\n",
              "      <td>0</td>\n",
              "      <td>0</td>\n",
              "      <td>1</td>\n",
              "      <td>0</td>\n",
              "      <td>1</td>\n",
              "      <td>0</td>\n",
              "      <td>0</td>\n",
              "      <td>1</td>\n",
              "      <td>0</td>\n",
              "      <td>1</td>\n",
              "      <td>0</td>\n",
              "      <td>1</td>\n",
              "      <td>1</td>\n",
              "      <td>67</td>\n",
              "      <td>91</td>\n",
              "      <td>58</td>\n",
              "      <td>55</td>\n",
              "      <td>58.8</td>\n",
              "    </tr>\n",
              "    <tr>\n",
              "      <th>1</th>\n",
              "      <td>1</td>\n",
              "      <td>0</td>\n",
              "      <td>0</td>\n",
              "      <td>1</td>\n",
              "      <td>0</td>\n",
              "      <td>0</td>\n",
              "      <td>1</td>\n",
              "      <td>0</td>\n",
              "      <td>0</td>\n",
              "      <td>1</td>\n",
              "      <td>0</td>\n",
              "      <td>1</td>\n",
              "      <td>1</td>\n",
              "      <td>0</td>\n",
              "      <td>0</td>\n",
              "      <td>1</td>\n",
              "      <td>2</td>\n",
              "      <td>79.33</td>\n",
              "      <td>78.33</td>\n",
              "      <td>77.48</td>\n",
              "      <td>86.5</td>\n",
              "      <td>66.28</td>\n",
              "    </tr>\n",
              "    <tr>\n",
              "      <th>2</th>\n",
              "      <td>1</td>\n",
              "      <td>0</td>\n",
              "      <td>1</td>\n",
              "      <td>0</td>\n",
              "      <td>1</td>\n",
              "      <td>0</td>\n",
              "      <td>0</td>\n",
              "      <td>1</td>\n",
              "      <td>0</td>\n",
              "      <td>0</td>\n",
              "      <td>1</td>\n",
              "      <td>0</td>\n",
              "      <td>1</td>\n",
              "      <td>0</td>\n",
              "      <td>0</td>\n",
              "      <td>1</td>\n",
              "      <td>3</td>\n",
              "      <td>65</td>\n",
              "      <td>68</td>\n",
              "      <td>64</td>\n",
              "      <td>75</td>\n",
              "      <td>57.8</td>\n",
              "    </tr>\n",
              "    <tr>\n",
              "      <th>3</th>\n",
              "      <td>0</td>\n",
              "      <td>1</td>\n",
              "      <td>1</td>\n",
              "      <td>0</td>\n",
              "      <td>0</td>\n",
              "      <td>0</td>\n",
              "      <td>1</td>\n",
              "      <td>0</td>\n",
              "      <td>0</td>\n",
              "      <td>1</td>\n",
              "      <td>1</td>\n",
              "      <td>0</td>\n",
              "      <td>1</td>\n",
              "      <td>0</td>\n",
              "      <td>0</td>\n",
              "      <td>1</td>\n",
              "      <td>4</td>\n",
              "      <td>56</td>\n",
              "      <td>52</td>\n",
              "      <td>52</td>\n",
              "      <td>66</td>\n",
              "      <td>59.43</td>\n",
              "    </tr>\n",
              "    <tr>\n",
              "      <th>4</th>\n",
              "      <td>1</td>\n",
              "      <td>0</td>\n",
              "      <td>1</td>\n",
              "      <td>0</td>\n",
              "      <td>1</td>\n",
              "      <td>0</td>\n",
              "      <td>0</td>\n",
              "      <td>0</td>\n",
              "      <td>1</td>\n",
              "      <td>0</td>\n",
              "      <td>1</td>\n",
              "      <td>0</td>\n",
              "      <td>1</td>\n",
              "      <td>0</td>\n",
              "      <td>0</td>\n",
              "      <td>1</td>\n",
              "      <td>5</td>\n",
              "      <td>85.8</td>\n",
              "      <td>73.6</td>\n",
              "      <td>73.3</td>\n",
              "      <td>96.8</td>\n",
              "      <td>55.5</td>\n",
              "    </tr>\n",
              "    <tr>\n",
              "      <th>...</th>\n",
              "      <td>...</td>\n",
              "      <td>...</td>\n",
              "      <td>...</td>\n",
              "      <td>...</td>\n",
              "      <td>...</td>\n",
              "      <td>...</td>\n",
              "      <td>...</td>\n",
              "      <td>...</td>\n",
              "      <td>...</td>\n",
              "      <td>...</td>\n",
              "      <td>...</td>\n",
              "      <td>...</td>\n",
              "      <td>...</td>\n",
              "      <td>...</td>\n",
              "      <td>...</td>\n",
              "      <td>...</td>\n",
              "      <td>...</td>\n",
              "      <td>...</td>\n",
              "      <td>...</td>\n",
              "      <td>...</td>\n",
              "      <td>...</td>\n",
              "      <td>...</td>\n",
              "    </tr>\n",
              "    <tr>\n",
              "      <th>210</th>\n",
              "      <td>1</td>\n",
              "      <td>0</td>\n",
              "      <td>1</td>\n",
              "      <td>0</td>\n",
              "      <td>1</td>\n",
              "      <td>0</td>\n",
              "      <td>0</td>\n",
              "      <td>0</td>\n",
              "      <td>1</td>\n",
              "      <td>0</td>\n",
              "      <td>0</td>\n",
              "      <td>1</td>\n",
              "      <td>0</td>\n",
              "      <td>1</td>\n",
              "      <td>0</td>\n",
              "      <td>1</td>\n",
              "      <td>211</td>\n",
              "      <td>80.6</td>\n",
              "      <td>82</td>\n",
              "      <td>77.6</td>\n",
              "      <td>91</td>\n",
              "      <td>74.49</td>\n",
              "    </tr>\n",
              "    <tr>\n",
              "      <th>211</th>\n",
              "      <td>1</td>\n",
              "      <td>0</td>\n",
              "      <td>1</td>\n",
              "      <td>0</td>\n",
              "      <td>0</td>\n",
              "      <td>0</td>\n",
              "      <td>1</td>\n",
              "      <td>0</td>\n",
              "      <td>0</td>\n",
              "      <td>1</td>\n",
              "      <td>0</td>\n",
              "      <td>1</td>\n",
              "      <td>0</td>\n",
              "      <td>1</td>\n",
              "      <td>0</td>\n",
              "      <td>1</td>\n",
              "      <td>212</td>\n",
              "      <td>58</td>\n",
              "      <td>60</td>\n",
              "      <td>72</td>\n",
              "      <td>74</td>\n",
              "      <td>53.62</td>\n",
              "    </tr>\n",
              "    <tr>\n",
              "      <th>212</th>\n",
              "      <td>1</td>\n",
              "      <td>0</td>\n",
              "      <td>0</td>\n",
              "      <td>1</td>\n",
              "      <td>1</td>\n",
              "      <td>0</td>\n",
              "      <td>0</td>\n",
              "      <td>0</td>\n",
              "      <td>1</td>\n",
              "      <td>0</td>\n",
              "      <td>0</td>\n",
              "      <td>1</td>\n",
              "      <td>0</td>\n",
              "      <td>1</td>\n",
              "      <td>0</td>\n",
              "      <td>1</td>\n",
              "      <td>213</td>\n",
              "      <td>67</td>\n",
              "      <td>67</td>\n",
              "      <td>73</td>\n",
              "      <td>59</td>\n",
              "      <td>69.72</td>\n",
              "    </tr>\n",
              "    <tr>\n",
              "      <th>213</th>\n",
              "      <td>0</td>\n",
              "      <td>1</td>\n",
              "      <td>1</td>\n",
              "      <td>0</td>\n",
              "      <td>1</td>\n",
              "      <td>0</td>\n",
              "      <td>0</td>\n",
              "      <td>0</td>\n",
              "      <td>1</td>\n",
              "      <td>0</td>\n",
              "      <td>0</td>\n",
              "      <td>1</td>\n",
              "      <td>0</td>\n",
              "      <td>1</td>\n",
              "      <td>1</td>\n",
              "      <td>0</td>\n",
              "      <td>214</td>\n",
              "      <td>74</td>\n",
              "      <td>66</td>\n",
              "      <td>58</td>\n",
              "      <td>70</td>\n",
              "      <td>60.23</td>\n",
              "    </tr>\n",
              "    <tr>\n",
              "      <th>214</th>\n",
              "      <td>0</td>\n",
              "      <td>1</td>\n",
              "      <td>1</td>\n",
              "      <td>0</td>\n",
              "      <td>1</td>\n",
              "      <td>0</td>\n",
              "      <td>0</td>\n",
              "      <td>0</td>\n",
              "      <td>0</td>\n",
              "      <td>1</td>\n",
              "      <td>0</td>\n",
              "      <td>1</td>\n",
              "      <td>1</td>\n",
              "      <td>0</td>\n",
              "      <td>0</td>\n",
              "      <td>1</td>\n",
              "      <td>215</td>\n",
              "      <td>62</td>\n",
              "      <td>58</td>\n",
              "      <td>53</td>\n",
              "      <td>89</td>\n",
              "      <td>60.22</td>\n",
              "    </tr>\n",
              "  </tbody>\n",
              "</table>\n",
              "<p>215 rows × 22 columns</p>\n",
              "</div>"
            ],
            "text/plain": [
              "    0  1  2  3  4  5  6  7  8   ... 13 14 15   16     17     18     19    20     21\n",
              "0    0  1  1  0  0  0  1  0  1  ...  1  0  1    1     67     91     58    55   58.8\n",
              "1    1  0  0  1  0  0  1  0  0  ...  0  0  1    2  79.33  78.33  77.48  86.5  66.28\n",
              "2    1  0  1  0  1  0  0  1  0  ...  0  0  1    3     65     68     64    75   57.8\n",
              "3    0  1  1  0  0  0  1  0  0  ...  0  0  1    4     56     52     52    66  59.43\n",
              "4    1  0  1  0  1  0  0  0  1  ...  0  0  1    5   85.8   73.6   73.3  96.8   55.5\n",
              "..  .. .. .. .. .. .. .. .. ..  ... .. .. ..  ...    ...    ...    ...   ...    ...\n",
              "210  1  0  1  0  1  0  0  0  1  ...  1  0  1  211   80.6     82   77.6    91  74.49\n",
              "211  1  0  1  0  0  0  1  0  0  ...  1  0  1  212     58     60     72    74  53.62\n",
              "212  1  0  0  1  1  0  0  0  1  ...  1  0  1  213     67     67     73    59  69.72\n",
              "213  0  1  1  0  1  0  0  0  1  ...  1  1  0  214     74     66     58    70  60.23\n",
              "214  0  1  1  0  1  0  0  0  0  ...  0  0  1  215     62     58     53    89  60.22\n",
              "\n",
              "[215 rows x 22 columns]"
            ]
          },
          "metadata": {
            "tags": []
          },
          "execution_count": 397
        }
      ]
    },
    {
      "cell_type": "markdown",
      "metadata": {
        "id": "ieuDLR8WOJWZ",
        "colab_type": "text"
      },
      "source": [
        "#Splitting into Test and Train sets"
      ]
    },
    {
      "cell_type": "code",
      "metadata": {
        "id": "Yhsj2tpLvwyH",
        "colab_type": "code",
        "colab": {}
      },
      "source": [
        "from sklearn.model_selection import train_test_split"
      ],
      "execution_count": 398,
      "outputs": []
    },
    {
      "cell_type": "code",
      "metadata": {
        "id": "xmfUg0OVvzsD",
        "colab_type": "code",
        "colab": {}
      },
      "source": [
        "x_train, x_test, y_train, y_test = train_test_split(x, y, test_size = 0.15)"
      ],
      "execution_count": 399,
      "outputs": []
    },
    {
      "cell_type": "code",
      "metadata": {
        "id": "KwNof7PYv1s0",
        "colab_type": "code",
        "colab": {
          "base_uri": "https://localhost:8080/",
          "height": 87
        },
        "outputId": "1604b324-2da5-4c5e-a453-c53ee587914e"
      },
      "source": [
        "print(len(x_train))\n",
        "print(len(x_test))\n",
        "print(len(y_train))\n",
        "print(len(y_test))"
      ],
      "execution_count": 400,
      "outputs": [
        {
          "output_type": "stream",
          "text": [
            "182\n",
            "33\n",
            "182\n",
            "33\n"
          ],
          "name": "stdout"
        }
      ]
    },
    {
      "cell_type": "code",
      "metadata": {
        "id": "kJ7MPRl9v4IO",
        "colab_type": "code",
        "colab": {
          "base_uri": "https://localhost:8080/",
          "height": 141
        },
        "outputId": "cf234c61-336b-4d08-cee9-635ebc0fae27"
      },
      "source": [
        "x_train"
      ],
      "execution_count": 401,
      "outputs": [
        {
          "output_type": "execute_result",
          "data": {
            "text/plain": [
              "array([[1.0, 0.0, 0.0, ..., 62.8, 57.0, 56.6],\n",
              "       [1.0, 0.0, 0.0, ..., 72.0, 94.0, 67.13],\n",
              "       [1.0, 0.0, 1.0, ..., 82.0, 92.0, 68.03],\n",
              "       ...,\n",
              "       [1.0, 0.0, 1.0, ..., 71.0, 95.0, 66.94],\n",
              "       [1.0, 0.0, 0.0, ..., 66.6, 96.0, 70.85],\n",
              "       [0.0, 1.0, 1.0, ..., 72.7, 79.0, 59.24]], dtype=object)"
            ]
          },
          "metadata": {
            "tags": []
          },
          "execution_count": 401
        }
      ]
    },
    {
      "cell_type": "code",
      "metadata": {
        "id": "l-pcesFIv-oC",
        "colab_type": "code",
        "colab": {
          "base_uri": "https://localhost:8080/",
          "height": 1000
        },
        "outputId": "3266a8f5-1bd0-47a8-f44c-e563e5f5ca9a"
      },
      "source": [
        "x_test"
      ],
      "execution_count": 402,
      "outputs": [
        {
          "output_type": "execute_result",
          "data": {
            "text/plain": [
              "array([[0.0, 1.0, 1.0, 0.0, 0.0, 0.0, 1.0, 0.0, 0.0, 1.0, 1.0, 0.0, 1.0,\n",
              "        0.0, 1.0, 0.0, 46, 76.0, 64.0, 72.0, 58.0, 66.53],\n",
              "       [0.0, 1.0, 1.0, 0.0, 1.0, 0.0, 0.0, 0.0, 1.0, 0.0, 0.0, 1.0, 1.0,\n",
              "        0.0, 1.0, 0.0, 76, 59.0, 62.0, 77.5, 74.0, 67.0],\n",
              "       [0.0, 1.0, 1.0, 0.0, 0.0, 0.0, 1.0, 0.0, 0.0, 1.0, 1.0, 0.0, 1.0,\n",
              "        0.0, 1.0, 0.0, 111, 69.5, 70.0, 72.0, 57.2, 54.8],\n",
              "       [1.0, 0.0, 1.0, 0.0, 1.0, 0.0, 0.0, 0.0, 1.0, 0.0, 1.0, 0.0, 1.0,\n",
              "        0.0, 1.0, 0.0, 187, 52.0, 64.0, 61.0, 55.0, 62.93],\n",
              "       [0.0, 1.0, 0.0, 1.0, 1.0, 0.0, 0.0, 0.0, 1.0, 0.0, 1.0, 0.0, 1.0,\n",
              "        0.0, 1.0, 0.0, 169, 48.0, 51.0, 58.0, 60.0, 58.79],\n",
              "       [0.0, 1.0, 0.0, 1.0, 0.0, 1.0, 0.0, 1.0, 0.0, 0.0, 1.0, 0.0, 1.0,\n",
              "        0.0, 1.0, 0.0, 194, 60.0, 63.0, 56.0, 80.0, 56.63],\n",
              "       [1.0, 0.0, 1.0, 0.0, 1.0, 0.0, 0.0, 0.0, 1.0, 0.0, 0.0, 1.0, 0.0,\n",
              "        1.0, 0.0, 1.0, 57, 63.0, 71.4, 61.4, 68.0, 66.88],\n",
              "       [1.0, 0.0, 0.0, 1.0, 0.0, 0.0, 1.0, 0.0, 0.0, 1.0, 1.0, 0.0, 1.0,\n",
              "        0.0, 0.0, 1.0, 188, 78.5, 65.5, 67.0, 95.0, 64.86],\n",
              "       [1.0, 0.0, 1.0, 0.0, 1.0, 0.0, 0.0, 0.0, 1.0, 0.0, 1.0, 0.0, 1.0,\n",
              "        0.0, 0.0, 1.0, 158, 66.5, 62.5, 60.9, 93.4, 55.03],\n",
              "       [0.0, 1.0, 1.0, 0.0, 0.0, 0.0, 1.0, 0.0, 0.0, 1.0, 0.0, 1.0, 0.0,\n",
              "        1.0, 1.0, 0.0, 174, 52.0, 52.0, 55.0, 67.0, 59.32],\n",
              "       [0.0, 1.0, 1.0, 0.0, 1.0, 0.0, 0.0, 0.0, 0.0, 1.0, 0.0, 1.0, 0.0,\n",
              "        1.0, 1.0, 0.0, 47, 70.89, 71.98, 65.6, 68.0, 71.63],\n",
              "       [1.0, 0.0, 0.0, 1.0, 1.0, 0.0, 0.0, 0.0, 1.0, 0.0, 0.0, 1.0, 0.0,\n",
              "        1.0, 1.0, 0.0, 86, 83.84, 89.83, 77.2, 78.74, 76.18],\n",
              "       [0.0, 1.0, 1.0, 0.0, 0.0, 1.0, 0.0, 0.0, 1.0, 0.0, 1.0, 0.0, 1.0,\n",
              "        0.0, 1.0, 0.0, 199, 67.0, 70.0, 65.0, 88.0, 71.96],\n",
              "       [0.0, 1.0, 1.0, 0.0, 0.0, 0.0, 1.0, 0.0, 0.0, 1.0, 1.0, 0.0, 1.0,\n",
              "        0.0, 1.0, 0.0, 38, 79.0, 76.0, 65.6, 58.0, 55.47],\n",
              "       [1.0, 0.0, 1.0, 0.0, 1.0, 0.0, 0.0, 0.0, 1.0, 0.0, 1.0, 0.0, 1.0,\n",
              "        0.0, 1.0, 0.0, 99, 69.0, 73.0, 65.0, 70.0, 57.31],\n",
              "       [0.0, 1.0, 0.0, 1.0, 0.0, 1.0, 0.0, 0.0, 0.0, 1.0, 1.0, 0.0, 1.0,\n",
              "        0.0, 0.0, 1.0, 125, 67.0, 71.0, 64.33, 64.0, 61.26],\n",
              "       [0.0, 1.0, 0.0, 1.0, 0.0, 0.0, 1.0, 0.0, 0.0, 1.0, 1.0, 0.0, 1.0,\n",
              "        0.0, 0.0, 1.0, 161, 87.0, 74.0, 65.0, 75.0, 72.29],\n",
              "       [0.0, 1.0, 1.0, 0.0, 1.0, 0.0, 0.0, 0.0, 0.0, 1.0, 0.0, 1.0, 1.0,\n",
              "        0.0, 1.0, 0.0, 55, 74.0, 60.0, 69.0, 78.0, 65.56],\n",
              "       [1.0, 0.0, 0.0, 1.0, 1.0, 0.0, 0.0, 0.0, 1.0, 0.0, 0.0, 1.0, 0.0,\n",
              "        1.0, 0.0, 1.0, 172, 80.0, 80.0, 72.0, 63.79, 66.04],\n",
              "       [0.0, 1.0, 0.0, 1.0, 1.0, 0.0, 0.0, 0.0, 1.0, 0.0, 0.0, 1.0, 0.0,\n",
              "        1.0, 1.0, 0.0, 101, 45.0, 57.0, 58.0, 56.39, 64.95],\n",
              "       [1.0, 0.0, 1.0, 0.0, 1.0, 0.0, 0.0, 1.0, 0.0, 0.0, 1.0, 0.0, 1.0,\n",
              "        0.0, 0.0, 1.0, 3, 65.0, 68.0, 64.0, 75.0, 57.8],\n",
              "       [1.0, 0.0, 0.0, 1.0, 1.0, 0.0, 0.0, 0.0, 1.0, 0.0, 0.0, 1.0, 1.0,\n",
              "        0.0, 0.0, 1.0, 96, 73.0, 78.0, 65.0, 95.46, 62.16],\n",
              "       [1.0, 0.0, 1.0, 0.0, 1.0, 0.0, 0.0, 0.0, 1.0, 0.0, 0.0, 1.0, 0.0,\n",
              "        1.0, 0.0, 1.0, 201, 69.0, 60.0, 65.0, 87.55, 52.81],\n",
              "       [1.0, 0.0, 1.0, 0.0, 1.0, 0.0, 0.0, 0.0, 1.0, 0.0, 1.0, 0.0, 1.0,\n",
              "        0.0, 0.0, 1.0, 5, 85.8, 73.6, 73.3, 96.8, 55.5],\n",
              "       [1.0, 0.0, 1.0, 0.0, 1.0, 0.0, 0.0, 0.0, 1.0, 0.0, 0.0, 1.0, 1.0,\n",
              "        0.0, 0.0, 1.0, 74, 64.6, 83.83, 71.72, 86.0, 59.75],\n",
              "       [1.0, 0.0, 1.0, 0.0, 0.0, 0.0, 1.0, 0.0, 0.0, 1.0, 0.0, 1.0, 0.0,\n",
              "        1.0, 0.0, 1.0, 118, 77.0, 75.0, 73.0, 80.0, 67.05],\n",
              "       [1.0, 0.0, 1.0, 0.0, 1.0, 0.0, 0.0, 0.0, 1.0, 0.0, 1.0, 0.0, 1.0,\n",
              "        0.0, 0.0, 1.0, 109, 61.0, 82.0, 69.0, 84.0, 58.31],\n",
              "       [0.0, 1.0, 1.0, 0.0, 1.0, 0.0, 0.0, 0.0, 0.0, 1.0, 0.0, 1.0, 1.0,\n",
              "        0.0, 0.0, 1.0, 147, 62.0, 63.0, 66.0, 85.0, 55.14],\n",
              "       [0.0, 1.0, 1.0, 0.0, 1.0, 0.0, 0.0, 0.0, 0.0, 1.0, 1.0, 0.0, 1.0,\n",
              "        0.0, 1.0, 0.0, 51, 75.2, 73.2, 68.4, 65.0, 62.98],\n",
              "       [0.0, 1.0, 1.0, 0.0, 0.0, 0.0, 1.0, 0.0, 0.0, 1.0, 0.0, 1.0, 1.0,\n",
              "        0.0, 0.0, 1.0, 182, 62.0, 60.33, 64.21, 63.0, 60.02],\n",
              "       [0.0, 1.0, 1.0, 0.0, 1.0, 0.0, 0.0, 0.0, 1.0, 0.0, 1.0, 0.0, 1.0,\n",
              "        0.0, 1.0, 0.0, 33, 61.0, 81.0, 66.4, 50.89, 62.21],\n",
              "       [1.0, 0.0, 0.0, 1.0, 1.0, 0.0, 0.0, 0.0, 1.0, 0.0, 0.0, 1.0, 0.0,\n",
              "        1.0, 1.0, 0.0, 205, 74.0, 73.0, 73.0, 80.0, 67.69],\n",
              "       [1.0, 0.0, 0.0, 1.0, 1.0, 0.0, 0.0, 0.0, 0.0, 1.0, 1.0, 0.0, 1.0,\n",
              "        0.0, 1.0, 0.0, 97, 76.0, 70.0, 76.0, 66.0, 64.44]], dtype=object)"
            ]
          },
          "metadata": {
            "tags": []
          },
          "execution_count": 402
        }
      ]
    },
    {
      "cell_type": "code",
      "metadata": {
        "id": "FHYbqGPVwAWj",
        "colab_type": "code",
        "colab": {
          "base_uri": "https://localhost:8080/",
          "height": 603
        },
        "outputId": "49e1d413-b1bc-4f46-e992-9d8911f62f27"
      },
      "source": [
        "y_train"
      ],
      "execution_count": 403,
      "outputs": [
        {
          "output_type": "execute_result",
          "data": {
            "text/plain": [
              "array(['Placed', 'Placed', 'Placed', 'Placed', 'Placed', 'Not Placed',\n",
              "       'Not Placed', 'Placed', 'Not Placed', 'Not Placed', 'Placed',\n",
              "       'Placed', 'Placed', 'Placed', 'Not Placed', 'Not Placed',\n",
              "       'Not Placed', 'Placed', 'Placed', 'Placed', 'Placed', 'Placed',\n",
              "       'Placed', 'Placed', 'Not Placed', 'Placed', 'Placed', 'Placed',\n",
              "       'Not Placed', 'Not Placed', 'Not Placed', 'Placed', 'Not Placed',\n",
              "       'Placed', 'Placed', 'Placed', 'Placed', 'Placed', 'Not Placed',\n",
              "       'Placed', 'Placed', 'Not Placed', 'Not Placed', 'Placed',\n",
              "       'Not Placed', 'Placed', 'Placed', 'Not Placed', 'Placed', 'Placed',\n",
              "       'Placed', 'Not Placed', 'Placed', 'Placed', 'Not Placed', 'Placed',\n",
              "       'Placed', 'Not Placed', 'Not Placed', 'Not Placed', 'Placed',\n",
              "       'Placed', 'Placed', 'Placed', 'Placed', 'Placed', 'Placed',\n",
              "       'Not Placed', 'Not Placed', 'Placed', 'Not Placed', 'Placed',\n",
              "       'Placed', 'Placed', 'Not Placed', 'Placed', 'Not Placed',\n",
              "       'Not Placed', 'Placed', 'Placed', 'Not Placed', 'Placed', 'Placed',\n",
              "       'Placed', 'Placed', 'Placed', 'Placed', 'Placed', 'Not Placed',\n",
              "       'Placed', 'Not Placed', 'Placed', 'Placed', 'Placed', 'Not Placed',\n",
              "       'Not Placed', 'Placed', 'Placed', 'Placed', 'Placed', 'Not Placed',\n",
              "       'Placed', 'Not Placed', 'Not Placed', 'Placed', 'Not Placed',\n",
              "       'Not Placed', 'Placed', 'Placed', 'Placed', 'Not Placed', 'Placed',\n",
              "       'Placed', 'Placed', 'Placed', 'Placed', 'Not Placed', 'Placed',\n",
              "       'Placed', 'Not Placed', 'Placed', 'Not Placed', 'Placed',\n",
              "       'Not Placed', 'Placed', 'Placed', 'Placed', 'Placed', 'Not Placed',\n",
              "       'Placed', 'Placed', 'Placed', 'Not Placed', 'Placed', 'Placed',\n",
              "       'Placed', 'Placed', 'Placed', 'Not Placed', 'Placed', 'Placed',\n",
              "       'Placed', 'Placed', 'Placed', 'Not Placed', 'Placed', 'Placed',\n",
              "       'Placed', 'Placed', 'Placed', 'Placed', 'Placed', 'Not Placed',\n",
              "       'Placed', 'Not Placed', 'Placed', 'Not Placed', 'Placed', 'Placed',\n",
              "       'Not Placed', 'Placed', 'Placed', 'Not Placed', 'Not Placed',\n",
              "       'Placed', 'Placed', 'Placed', 'Placed', 'Placed', 'Placed',\n",
              "       'Placed', 'Not Placed', 'Placed', 'Placed', 'Placed', 'Placed',\n",
              "       'Not Placed', 'Not Placed', 'Not Placed', 'Placed', 'Placed',\n",
              "       'Not Placed'], dtype=object)"
            ]
          },
          "metadata": {
            "tags": []
          },
          "execution_count": 403
        }
      ]
    },
    {
      "cell_type": "code",
      "metadata": {
        "id": "c3cYSS7gwCBC",
        "colab_type": "code",
        "colab": {
          "base_uri": "https://localhost:8080/",
          "height": 123
        },
        "outputId": "f0df5b73-405c-4a69-e906-2509326e1450"
      },
      "source": [
        "y_test"
      ],
      "execution_count": 404,
      "outputs": [
        {
          "output_type": "execute_result",
          "data": {
            "text/plain": [
              "array(['Not Placed', 'Not Placed', 'Placed', 'Not Placed', 'Not Placed',\n",
              "       'Placed', 'Placed', 'Placed', 'Placed', 'Not Placed', 'Not Placed',\n",
              "       'Placed', 'Not Placed', 'Placed', 'Placed', 'Placed', 'Placed',\n",
              "       'Placed', 'Placed', 'Not Placed', 'Placed', 'Placed', 'Placed',\n",
              "       'Placed', 'Placed', 'Placed', 'Placed', 'Placed', 'Placed',\n",
              "       'Not Placed', 'Placed', 'Placed', 'Placed'], dtype=object)"
            ]
          },
          "metadata": {
            "tags": []
          },
          "execution_count": 404
        }
      ]
    },
    {
      "cell_type": "markdown",
      "metadata": {
        "id": "TqZHug0yOPbe",
        "colab_type": "text"
      },
      "source": [
        "##Label Encoder\n"
      ]
    },
    {
      "cell_type": "markdown",
      "metadata": {
        "id": "_W98cJXuORkU",
        "colab_type": "text"
      },
      "source": [
        "* For target\n",
        "* In this it converts status labels to numeric form"
      ]
    },
    {
      "cell_type": "code",
      "metadata": {
        "id": "eMe2gPcfwEI9",
        "colab_type": "code",
        "colab": {}
      },
      "source": [
        "from sklearn.preprocessing import LabelEncoder"
      ],
      "execution_count": 405,
      "outputs": []
    },
    {
      "cell_type": "code",
      "metadata": {
        "id": "Zpvv1apHwHTP",
        "colab_type": "code",
        "colab": {}
      },
      "source": [
        "le = LabelEncoder()"
      ],
      "execution_count": 406,
      "outputs": []
    },
    {
      "cell_type": "code",
      "metadata": {
        "id": "w4Uwk9IowJ73",
        "colab_type": "code",
        "colab": {}
      },
      "source": [
        "label= le.fit_transform(y_train)"
      ],
      "execution_count": 407,
      "outputs": []
    },
    {
      "cell_type": "code",
      "metadata": {
        "id": "r8-z4ApmwSEo",
        "colab_type": "code",
        "colab": {
          "base_uri": "https://localhost:8080/",
          "height": 176
        },
        "outputId": "119dbe83-384b-4ae1-ba3c-67248b5b1973"
      },
      "source": [
        "label"
      ],
      "execution_count": 408,
      "outputs": [
        {
          "output_type": "execute_result",
          "data": {
            "text/plain": [
              "array([1, 1, 1, 1, 1, 0, 0, 1, 0, 0, 1, 1, 1, 1, 0, 0, 0, 1, 1, 1, 1, 1,\n",
              "       1, 1, 0, 1, 1, 1, 0, 0, 0, 1, 0, 1, 1, 1, 1, 1, 0, 1, 1, 0, 0, 1,\n",
              "       0, 1, 1, 0, 1, 1, 1, 0, 1, 1, 0, 1, 1, 0, 0, 0, 1, 1, 1, 1, 1, 1,\n",
              "       1, 0, 0, 1, 0, 1, 1, 1, 0, 1, 0, 0, 1, 1, 0, 1, 1, 1, 1, 1, 1, 1,\n",
              "       0, 1, 0, 1, 1, 1, 0, 0, 1, 1, 1, 1, 0, 1, 0, 0, 1, 0, 0, 1, 1, 1,\n",
              "       0, 1, 1, 1, 1, 1, 0, 1, 1, 0, 1, 0, 1, 0, 1, 1, 1, 1, 0, 1, 1, 1,\n",
              "       0, 1, 1, 1, 1, 1, 0, 1, 1, 1, 1, 1, 0, 1, 1, 1, 1, 1, 1, 1, 0, 1,\n",
              "       0, 1, 0, 1, 1, 0, 1, 1, 0, 0, 1, 1, 1, 1, 1, 1, 1, 0, 1, 1, 1, 1,\n",
              "       0, 0, 0, 1, 1, 0])"
            ]
          },
          "metadata": {
            "tags": []
          },
          "execution_count": 408
        }
      ]
    },
    {
      "cell_type": "code",
      "metadata": {
        "id": "NGYctizHwVFX",
        "colab_type": "code",
        "colab": {
          "base_uri": "https://localhost:8080/",
          "height": 603
        },
        "outputId": "bd53f8b5-f079-49c0-d94d-1f41cc62615b"
      },
      "source": [
        "y_train"
      ],
      "execution_count": 409,
      "outputs": [
        {
          "output_type": "execute_result",
          "data": {
            "text/plain": [
              "array(['Placed', 'Placed', 'Placed', 'Placed', 'Placed', 'Not Placed',\n",
              "       'Not Placed', 'Placed', 'Not Placed', 'Not Placed', 'Placed',\n",
              "       'Placed', 'Placed', 'Placed', 'Not Placed', 'Not Placed',\n",
              "       'Not Placed', 'Placed', 'Placed', 'Placed', 'Placed', 'Placed',\n",
              "       'Placed', 'Placed', 'Not Placed', 'Placed', 'Placed', 'Placed',\n",
              "       'Not Placed', 'Not Placed', 'Not Placed', 'Placed', 'Not Placed',\n",
              "       'Placed', 'Placed', 'Placed', 'Placed', 'Placed', 'Not Placed',\n",
              "       'Placed', 'Placed', 'Not Placed', 'Not Placed', 'Placed',\n",
              "       'Not Placed', 'Placed', 'Placed', 'Not Placed', 'Placed', 'Placed',\n",
              "       'Placed', 'Not Placed', 'Placed', 'Placed', 'Not Placed', 'Placed',\n",
              "       'Placed', 'Not Placed', 'Not Placed', 'Not Placed', 'Placed',\n",
              "       'Placed', 'Placed', 'Placed', 'Placed', 'Placed', 'Placed',\n",
              "       'Not Placed', 'Not Placed', 'Placed', 'Not Placed', 'Placed',\n",
              "       'Placed', 'Placed', 'Not Placed', 'Placed', 'Not Placed',\n",
              "       'Not Placed', 'Placed', 'Placed', 'Not Placed', 'Placed', 'Placed',\n",
              "       'Placed', 'Placed', 'Placed', 'Placed', 'Placed', 'Not Placed',\n",
              "       'Placed', 'Not Placed', 'Placed', 'Placed', 'Placed', 'Not Placed',\n",
              "       'Not Placed', 'Placed', 'Placed', 'Placed', 'Placed', 'Not Placed',\n",
              "       'Placed', 'Not Placed', 'Not Placed', 'Placed', 'Not Placed',\n",
              "       'Not Placed', 'Placed', 'Placed', 'Placed', 'Not Placed', 'Placed',\n",
              "       'Placed', 'Placed', 'Placed', 'Placed', 'Not Placed', 'Placed',\n",
              "       'Placed', 'Not Placed', 'Placed', 'Not Placed', 'Placed',\n",
              "       'Not Placed', 'Placed', 'Placed', 'Placed', 'Placed', 'Not Placed',\n",
              "       'Placed', 'Placed', 'Placed', 'Not Placed', 'Placed', 'Placed',\n",
              "       'Placed', 'Placed', 'Placed', 'Not Placed', 'Placed', 'Placed',\n",
              "       'Placed', 'Placed', 'Placed', 'Not Placed', 'Placed', 'Placed',\n",
              "       'Placed', 'Placed', 'Placed', 'Placed', 'Placed', 'Not Placed',\n",
              "       'Placed', 'Not Placed', 'Placed', 'Not Placed', 'Placed', 'Placed',\n",
              "       'Not Placed', 'Placed', 'Placed', 'Not Placed', 'Not Placed',\n",
              "       'Placed', 'Placed', 'Placed', 'Placed', 'Placed', 'Placed',\n",
              "       'Placed', 'Not Placed', 'Placed', 'Placed', 'Placed', 'Placed',\n",
              "       'Not Placed', 'Not Placed', 'Not Placed', 'Placed', 'Placed',\n",
              "       'Not Placed'], dtype=object)"
            ]
          },
          "metadata": {
            "tags": []
          },
          "execution_count": 409
        }
      ]
    },
    {
      "cell_type": "code",
      "metadata": {
        "id": "AkdLh4MgwakU",
        "colab_type": "code",
        "colab": {}
      },
      "source": [
        "labenc = le.fit_transform(y_test)"
      ],
      "execution_count": 410,
      "outputs": []
    },
    {
      "cell_type": "code",
      "metadata": {
        "id": "JH3cDJYAwjcg",
        "colab_type": "code",
        "colab": {
          "base_uri": "https://localhost:8080/",
          "height": 52
        },
        "outputId": "78e7bbae-ff0f-4192-c901-0e2cef63fa94"
      },
      "source": [
        "labenc"
      ],
      "execution_count": 411,
      "outputs": [
        {
          "output_type": "execute_result",
          "data": {
            "text/plain": [
              "array([0, 0, 1, 0, 0, 1, 1, 1, 1, 0, 0, 1, 0, 1, 1, 1, 1, 1, 1, 0, 1, 1,\n",
              "       1, 1, 1, 1, 1, 1, 1, 0, 1, 1, 1])"
            ]
          },
          "metadata": {
            "tags": []
          },
          "execution_count": 411
        }
      ]
    },
    {
      "cell_type": "code",
      "metadata": {
        "id": "CALw2RPqwni2",
        "colab_type": "code",
        "colab": {
          "base_uri": "https://localhost:8080/",
          "height": 123
        },
        "outputId": "6571519d-65eb-43b7-ddc3-bf5f29b19345"
      },
      "source": [
        "y_test"
      ],
      "execution_count": 412,
      "outputs": [
        {
          "output_type": "execute_result",
          "data": {
            "text/plain": [
              "array(['Not Placed', 'Not Placed', 'Placed', 'Not Placed', 'Not Placed',\n",
              "       'Placed', 'Placed', 'Placed', 'Placed', 'Not Placed', 'Not Placed',\n",
              "       'Placed', 'Not Placed', 'Placed', 'Placed', 'Placed', 'Placed',\n",
              "       'Placed', 'Placed', 'Not Placed', 'Placed', 'Placed', 'Placed',\n",
              "       'Placed', 'Placed', 'Placed', 'Placed', 'Placed', 'Placed',\n",
              "       'Not Placed', 'Placed', 'Placed', 'Placed'], dtype=object)"
            ]
          },
          "metadata": {
            "tags": []
          },
          "execution_count": 412
        }
      ]
    },
    {
      "cell_type": "markdown",
      "metadata": {
        "id": "EmhB2TgoOZU7",
        "colab_type": "text"
      },
      "source": [
        "#Standardization"
      ]
    },
    {
      "cell_type": "code",
      "metadata": {
        "id": "kq6l3iatwqEg",
        "colab_type": "code",
        "colab": {}
      },
      "source": [
        "from sklearn.preprocessing import StandardScaler"
      ],
      "execution_count": 413,
      "outputs": []
    },
    {
      "cell_type": "code",
      "metadata": {
        "id": "mGGSIN0jwtLf",
        "colab_type": "code",
        "colab": {}
      },
      "source": [
        "sc=StandardScaler()"
      ],
      "execution_count": 414,
      "outputs": []
    },
    {
      "cell_type": "code",
      "metadata": {
        "id": "W7DM3vR2wwsh",
        "colab_type": "code",
        "colab": {}
      },
      "source": [
        "sd_train=sc.fit_transform(x_train)\n",
        "sd_test=sc.transform(x_test)"
      ],
      "execution_count": 415,
      "outputs": []
    },
    {
      "cell_type": "markdown",
      "metadata": {
        "id": "PqFbv3J6O09t",
        "colab_type": "text"
      },
      "source": [
        "#Train on different algorithms"
      ]
    },
    {
      "cell_type": "markdown",
      "metadata": {
        "id": "XWF0p2v1Owu9",
        "colab_type": "text"
      },
      "source": [
        "* Here I've trained in 5 different algorithms\n",
        "\n",
        "1. LogisticRegression  -  'linear_model'  library used\n",
        "\n",
        "2. KNeighborsClassifier  - 'neighbors'  library used\n",
        "\n",
        "3. DecisionTreeClassifier  - 'tree'  library used\n",
        "\n",
        "4. RandomForestClassifier  - 'ensemble'  library used\n",
        "\n",
        "5. SVC  - 'svm' library used"
      ]
    },
    {
      "cell_type": "code",
      "metadata": {
        "id": "sUYBEZfSqF7M",
        "colab_type": "code",
        "colab": {}
      },
      "source": [
        "from sklearn.linear_model import LogisticRegression\n",
        "from sklearn.neighbors import KNeighborsClassifier\n",
        "from sklearn.tree import DecisionTreeClassifier\n",
        "from sklearn.ensemble import RandomForestClassifier\n",
        "from sklearn.svm import SVC"
      ],
      "execution_count": 416,
      "outputs": []
    },
    {
      "cell_type": "code",
      "metadata": {
        "id": "aYsn4rYAJlAd",
        "colab_type": "code",
        "colab": {}
      },
      "source": [
        "l_cla = LogisticRegression()\n",
        "k_cla = KNeighborsClassifier()\n",
        "d_cla = DecisionTreeClassifier()\n",
        "r_cla = RandomForestClassifier()\n",
        "s_cla = SVC(kernel='linear')\n",
        "ks_cla = SVC(kernel='rbf')"
      ],
      "execution_count": 417,
      "outputs": []
    },
    {
      "cell_type": "code",
      "metadata": {
        "id": "Zis37-75JnW7",
        "colab_type": "code",
        "colab": {
          "base_uri": "https://localhost:8080/",
          "height": 87
        },
        "outputId": "b4f74e17-7546-4105-eaf2-59d85941097b"
      },
      "source": [
        "l_cla.fit(sd_train, label)\n",
        "k_cla.fit(sd_train, label)\n",
        "d_cla.fit(sd_train, label)\n",
        "r_cla.fit(sd_train, label)\n",
        "s_cla.fit(sd_train, label)\n",
        "ks_cla.fit(sd_train,label)"
      ],
      "execution_count": 418,
      "outputs": [
        {
          "output_type": "execute_result",
          "data": {
            "text/plain": [
              "SVC(C=1.0, break_ties=False, cache_size=200, class_weight=None, coef0=0.0,\n",
              "    decision_function_shape='ovr', degree=3, gamma='scale', kernel='rbf',\n",
              "    max_iter=-1, probability=False, random_state=None, shrinking=True,\n",
              "    tol=0.001, verbose=False)"
            ]
          },
          "metadata": {
            "tags": []
          },
          "execution_count": 418
        }
      ]
    },
    {
      "cell_type": "code",
      "metadata": {
        "id": "R55sufOCJ2oQ",
        "colab_type": "code",
        "colab": {}
      },
      "source": [
        "l_pred = l_cla.predict(sd_test)\n",
        "k_pred = k_cla.predict(sd_test)\n",
        "d_pred = d_cla.predict(sd_test)\n",
        "r_pred = r_cla.predict(sd_test)\n",
        "s_pred = s_cla.predict(sd_test)\n",
        "ks_pred = ks_cla.predict(sd_test)"
      ],
      "execution_count": 419,
      "outputs": []
    },
    {
      "cell_type": "code",
      "metadata": {
        "id": "-d8-o9AKKAlU",
        "colab_type": "code",
        "colab": {}
      },
      "source": [
        "from sklearn.metrics import confusion_matrix"
      ],
      "execution_count": 420,
      "outputs": []
    },
    {
      "cell_type": "code",
      "metadata": {
        "id": "6Hoslc4nKMf3",
        "colab_type": "code",
        "colab": {}
      },
      "source": [
        "l_c = confusion_matrix(labenc, l_pred)\n",
        "k_c = confusion_matrix(labenc, k_pred)\n",
        "d_c = confusion_matrix(labenc, d_pred)\n",
        "r_c = confusion_matrix(labenc, r_pred)\n",
        "s_c = confusion_matrix(labenc, s_pred)\n",
        "ks_c = confusion_matrix(labenc, ks_pred)"
      ],
      "execution_count": 421,
      "outputs": []
    },
    {
      "cell_type": "code",
      "metadata": {
        "id": "mo0Y9pX2KtON",
        "colab_type": "code",
        "colab": {
          "base_uri": "https://localhost:8080/",
          "height": 52
        },
        "outputId": "32b40eac-6f7a-4cde-93db-ef8cfe379712"
      },
      "source": [
        "l_c"
      ],
      "execution_count": 422,
      "outputs": [
        {
          "output_type": "execute_result",
          "data": {
            "text/plain": [
              "array([[ 7,  2],\n",
              "       [ 2, 22]])"
            ]
          },
          "metadata": {
            "tags": []
          },
          "execution_count": 422
        }
      ]
    },
    {
      "cell_type": "code",
      "metadata": {
        "id": "c0l4j2aGKu8Y",
        "colab_type": "code",
        "colab": {
          "base_uri": "https://localhost:8080/",
          "height": 52
        },
        "outputId": "9560a574-a264-4d65-fe59-4763bf1a87fb"
      },
      "source": [
        "k_c"
      ],
      "execution_count": 423,
      "outputs": [
        {
          "output_type": "execute_result",
          "data": {
            "text/plain": [
              "array([[ 4,  5],\n",
              "       [ 5, 19]])"
            ]
          },
          "metadata": {
            "tags": []
          },
          "execution_count": 423
        }
      ]
    },
    {
      "cell_type": "code",
      "metadata": {
        "id": "0YjVzaMbKwAR",
        "colab_type": "code",
        "colab": {
          "base_uri": "https://localhost:8080/",
          "height": 52
        },
        "outputId": "9a6283ce-3776-40b4-9670-081f7009f1fa"
      },
      "source": [
        "d_c"
      ],
      "execution_count": 424,
      "outputs": [
        {
          "output_type": "execute_result",
          "data": {
            "text/plain": [
              "array([[ 5,  4],\n",
              "       [ 3, 21]])"
            ]
          },
          "metadata": {
            "tags": []
          },
          "execution_count": 424
        }
      ]
    },
    {
      "cell_type": "code",
      "metadata": {
        "id": "NRjxbY6PKxQg",
        "colab_type": "code",
        "colab": {
          "base_uri": "https://localhost:8080/",
          "height": 52
        },
        "outputId": "8c1eea91-bf10-4cd9-ba23-c62090960a77"
      },
      "source": [
        "r_c"
      ],
      "execution_count": 425,
      "outputs": [
        {
          "output_type": "execute_result",
          "data": {
            "text/plain": [
              "array([[ 5,  4],\n",
              "       [ 1, 23]])"
            ]
          },
          "metadata": {
            "tags": []
          },
          "execution_count": 425
        }
      ]
    },
    {
      "cell_type": "code",
      "metadata": {
        "id": "X0x03ttXKzRN",
        "colab_type": "code",
        "colab": {
          "base_uri": "https://localhost:8080/",
          "height": 52
        },
        "outputId": "20423465-bf9e-4533-9abe-cdd1c311a0e4"
      },
      "source": [
        "s_c"
      ],
      "execution_count": 426,
      "outputs": [
        {
          "output_type": "execute_result",
          "data": {
            "text/plain": [
              "array([[ 7,  2],\n",
              "       [ 1, 23]])"
            ]
          },
          "metadata": {
            "tags": []
          },
          "execution_count": 426
        }
      ]
    },
    {
      "cell_type": "code",
      "metadata": {
        "id": "csgejcFOK1gi",
        "colab_type": "code",
        "colab": {
          "base_uri": "https://localhost:8080/",
          "height": 52
        },
        "outputId": "3dc917bf-98e2-4bc0-92f9-3840774045a3"
      },
      "source": [
        "ks_c"
      ],
      "execution_count": 427,
      "outputs": [
        {
          "output_type": "execute_result",
          "data": {
            "text/plain": [
              "array([[ 7,  2],\n",
              "       [ 3, 21]])"
            ]
          },
          "metadata": {
            "tags": []
          },
          "execution_count": 427
        }
      ]
    },
    {
      "cell_type": "markdown",
      "metadata": {
        "id": "lgm2-gCgPAzh",
        "colab_type": "text"
      },
      "source": [
        "#Result"
      ]
    },
    {
      "cell_type": "code",
      "metadata": {
        "id": "PJ5w3nNMK3EH",
        "colab_type": "code",
        "colab": {}
      },
      "source": [
        "from sklearn.metrics import accuracy_score"
      ],
      "execution_count": 428,
      "outputs": []
    },
    {
      "cell_type": "code",
      "metadata": {
        "id": "0BR0XzxGK6rB",
        "colab_type": "code",
        "colab": {}
      },
      "source": [
        "l_a = accuracy_score(labenc, l_pred)\n",
        "k_a = accuracy_score(labenc, k_pred)\n",
        "d_a = accuracy_score(labenc, d_pred)\n",
        "r_a = accuracy_score(labenc, r_pred)\n",
        "s_a = accuracy_score(labenc, s_pred)\n",
        "ks_a = accuracy_score(labenc, ks_pred)"
      ],
      "execution_count": 429,
      "outputs": []
    },
    {
      "cell_type": "code",
      "metadata": {
        "id": "fgBiS-tpLVKQ",
        "colab_type": "code",
        "colab": {
          "base_uri": "https://localhost:8080/",
          "height": 141
        },
        "outputId": "de0a04f1-2493-4dd8-dc4d-ac731abc98b2"
      },
      "source": [
        "print('\\nLogistic Regression: ' + str(l_a)+'\\nKNN: ' + str(k_a)+'\\nDecision Tree: ' + str(d_a)+'\\nRandom Forest: ' + str(r_a)+'\\nLinear SVC: ' + str(s_a)+'\\nKernel SVC: ' + str(ks_a))"
      ],
      "execution_count": 430,
      "outputs": [
        {
          "output_type": "stream",
          "text": [
            "\n",
            "Logistic Regression: 0.8787878787878788\n",
            "KNN: 0.696969696969697\n",
            "Decision Tree: 0.7878787878787878\n",
            "Random Forest: 0.8484848484848485\n",
            "Linear SVC: 0.9090909090909091\n",
            "Kernel SVC: 0.8484848484848485\n"
          ],
          "name": "stdout"
        }
      ]
    },
    {
      "cell_type": "markdown",
      "metadata": {
        "id": "ijOy0xnEPFon",
        "colab_type": "text"
      },
      "source": [
        "#Conclusion\n"
      ]
    },
    {
      "cell_type": "markdown",
      "metadata": {
        "id": "eQJqmVpDPIDb",
        "colab_type": "text"
      },
      "source": [
        "We have solved this using Classification technique\n",
        "* In the above results we came to know that Linear SVC and Logistic Regression is giving more efficiency than any other algorithms\n",
        "* So we can say that both algorithms are having good efficiency"
      ]
    }
  ]
}